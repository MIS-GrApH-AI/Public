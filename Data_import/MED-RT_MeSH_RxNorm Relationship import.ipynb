{
 "cells": [
  {
   "cell_type": "markdown",
   "id": "8903e350",
   "metadata": {},
   "source": [
    "###  It is required to import UMLS model into Neo4J before proceeding with the code"
   ]
  },
  {
   "cell_type": "markdown",
   "id": "f45ddda9",
   "metadata": {},
   "source": [
    "Refer to the Github code to import UMLS data into Neo4J :  \n",
    "\n",
    "https://github.com/MIS-GrApH-AI/Public/blob/main/Data_import/UMLS_2020AB.ipynb"
   ]
  },
  {
   "cell_type": "markdown",
   "id": "736f62f0",
   "metadata": {},
   "source": [
    "# Importing MED-RT into UMLS model"
   ]
  },
  {
   "cell_type": "markdown",
   "id": "629d4a46",
   "metadata": {},
   "source": [
    "To download the MED-RT data visit the link -  https://evs.nci.nih.gov/ftp1/MED-RT/\n",
    "\n",
    "Download the XML.zip files. \n",
    "\n",
    "MED-RT documentation can be read from here - https://evs.nci.nih.gov/ftp1/MED-RT/MED-RT%20Documentation.pdf"
   ]
  },
  {
   "cell_type": "markdown",
   "id": "843c3f28",
   "metadata": {},
   "source": [
    "###  Refer to the procedure to get Association.csv"
   ]
  },
  {
   "cell_type": "markdown",
   "id": "5fe15cd4",
   "metadata": {},
   "source": [
    "Use the following codes in your Neo4J browser : (You must change the file retrieve location according to where you have stored the MED-RT XML file)\n",
    "\n",
    "\n"
   ]
  },
  {
   "cell_type": "markdown",
   "id": "a34a0419",
   "metadata": {},
   "source": [
    "Code 1:\n",
    "\n",
    "WITH \"CALL apoc.load.xml(\\\"file:///C:\\\\Users\\\\pc\\\\Desktop\\\\C-BIA\\\\Healthcare\\\\MED-RT\\\\Database\\\\Core_MEDRT_XML\\\\Parts\\\\Core_MEDRT_2021.07.06_XML.xml\\\" , '/terminology/association') YIELD value as association WITH [attr IN association._children WHERE attr._type IN ['namespace','name','from_namespace','from_name','from_code','to_namespace','to_name','to_code'] | attr._text] as pairs, [item in association._children WHERE item._type = \\\"qualifier\\\"] AS q1 RETURN pairs[0] as namespace, pairs[1] as name, pairs[2] as from_namespace, pairs[3] as from_name, pairs[4] as from_code, pairs[5] as to_namespace, pairs[6] as to_name, pairs[7] as to_code, q1[0]._children[0]._text as qualifier0_namespace, q1[0]._children[1]._text as qualifier0_name, q1[0]._children[2]._text as qualifier0_value, q1[1]._children[0]._text as qualifier1_namespace, q1[1]._children[1]._text as qualifier1_name, q1[1]._children[2]._text as qualifier1_value; \" as query\n",
    "CALL apoc.export.csv.query(query, \"association.csv\", {})\n",
    "YIELD file, source, format, nodes, relationships, properties, time, rows, batchSize, batches, done, data\n",
    "RETURN file, source, format, nodes, relationships, properties, time, rows, batchSize, batches, done, data;"
   ]
  },
  {
   "cell_type": "markdown",
   "id": "9b0dd5df",
   "metadata": {},
   "source": [
    "Once this action is performed, \"association.csv\" will be created in your Neo4J dbms folder.\n",
    "\n",
    "It is recommended to move this file to another easily accessible location since we will be referencing it in the upcoming code "
   ]
  },
  {
   "cell_type": "markdown",
   "id": "4e4ddfd5",
   "metadata": {},
   "source": [
    "Similar actions must be performed for Code 2 given below"
   ]
  },
  {
   "cell_type": "markdown",
   "id": "90179702",
   "metadata": {},
   "source": [
    "Code 2:\n",
    "\n",
    "WITH \"CALL apoc.load.xml(\\\"file:///C:\\\\Users\\\\pc\\\\Desktop\\\\C-BIA\\\\Healthcare\\\\MED-RT\\\\Database\\\\Core_MEDRT_XML\\\\Parts\\\\Core_MEDRT_2021.07.06_XML.xml\\\" , '/terminology/namespace') YIELD value as namespace WITH  [attr IN namespace._children WHERE attr._type IN ['name','code','version','authority'] | attr._text] as pairs RETURN  pairs[0] as name, pairs[1] as code, pairs[2] as version, pairs[3] as authority;\" as query\n",
    "CALL apoc.export.csv.query(query, \"namespace.csv\", {})\n",
    "YIELD file, source, format, nodes, relationships, properties, time, rows, batchSize, batches, done, data\n",
    "RETURN file, source, format, nodes, relationships, properties, time, rows, batchSize, batches, done, data;\n"
   ]
  },
  {
   "cell_type": "markdown",
   "id": "868762d3",
   "metadata": {},
   "source": [
    "The name of the csv file produced is \"namespace.csv\""
   ]
  },
  {
   "cell_type": "markdown",
   "id": "02a4f530",
   "metadata": {},
   "source": [
    "  "
   ]
  },
  {
   "cell_type": "code",
   "execution_count": null,
   "id": "131539f3",
   "metadata": {},
   "outputs": [],
   "source": [
    "import pandas as pd"
   ]
  },
  {
   "cell_type": "code",
   "execution_count": null,
   "id": "53fcda76",
   "metadata": {},
   "outputs": [],
   "source": [
    "import numpy as np"
   ]
  },
  {
   "cell_type": "code",
   "execution_count": null,
   "id": "7cd7fa8d",
   "metadata": {},
   "outputs": [],
   "source": [
    "# Load MRCONSO.RRF into a dataframe\n",
    "mrconso = pd.read_csv('C:/Users/pc/Desktop/C-BIA/Healthcare/UMLS/UMLS_Data/2021AA/META/MRCONSO.RRF', sep='|', header=None, encoding='utf-8')\n",
    "mrconso[:5]"
   ]
  },
  {
   "cell_type": "code",
   "execution_count": null,
   "id": "9e00802b",
   "metadata": {},
   "outputs": [],
   "source": [
    "mrconso.columns = ['CUI', 'LAT', 'TS', 'LUI', 'STT', 'SUI', 'ISPREF', 'AUI', 'SAUI', 'SCUI', 'SDUI', 'SAB', 'TTY', 'CODE', 'STR', 'SRL', 'SUPPRESS', 'CVF', '']"
   ]
  },
  {
   "cell_type": "code",
   "execution_count": null,
   "id": "65b577d0",
   "metadata": {},
   "outputs": [],
   "source": [
    "mrconso.drop(labels=['SUPPRESS', 'CODE', 'CVF','SAUI','SDUI', ''], axis=1, inplace=True)"
   ]
  },
  {
   "cell_type": "code",
   "execution_count": null,
   "id": "f935809a",
   "metadata": {},
   "outputs": [],
   "source": [
    "mrconso.info()"
   ]
  },
  {
   "cell_type": "code",
   "execution_count": null,
   "id": "a2faae82",
   "metadata": {},
   "outputs": [],
   "source": [
    "mrconso[:5]"
   ]
  },
  {
   "cell_type": "markdown",
   "id": "88838975",
   "metadata": {},
   "source": [
    "### Testing Merge - MRCONSO on Association\n"
   ]
  },
  {
   "cell_type": "markdown",
   "id": "d4051f4d",
   "metadata": {},
   "source": [
    "We perform merging of the association file to MRCONSO (UMLS) to match the CUI (UMLS) to the 'from_code' and the 'to_code' (SCUI in UMLS). This mapping is performed because our UMLS model nodes can be accessed with the CUI.\n",
    "Once we get the CUI mapping we can create the relationships (the column 'name' in association) and add our namespace (MED-RT in this case) and its verison. "
   ]
  },
  {
   "cell_type": "markdown",
   "id": "950e9620",
   "metadata": {},
   "source": [
    "The files \"association.csv\" and \"namespace.csv\" file locations must be referenced here "
   ]
  },
  {
   "cell_type": "code",
   "execution_count": null,
   "id": "061b1ed3",
   "metadata": {},
   "outputs": [],
   "source": [
    "#Association file is used for merging MRCONSO (UMLS) with MED-RT data\n",
    "association = pd.read_csv(r'C:\\Users\\pc\\Desktop\\C-BIA\\Healthcare\\MED-RT\\XML - CSV\\association.csv')"
   ]
  },
  {
   "cell_type": "code",
   "execution_count": null,
   "id": "3eee49f5",
   "metadata": {},
   "outputs": [],
   "source": [
    "#Version file is used for referencing the current MED-RT version into our UMLS model\n",
    "version = pd.read_csv(r'C:\\Users\\pc\\Desktop\\C-BIA\\Healthcare\\MED-RT\\XML - CSV\\namespace.csv')"
   ]
  },
  {
   "cell_type": "markdown",
   "id": "9798cea5",
   "metadata": {},
   "source": [
    "We create rectified namespace columns to change the namespace values to how it is in the UMLS data."
   ]
  },
  {
   "cell_type": "code",
   "execution_count": null,
   "id": "827658ab",
   "metadata": {},
   "outputs": [],
   "source": [
    "association['from_namespace_rectified'] = association['from_namespace']\n",
    "association['to_namespace_rectified'] = association['to_namespace']"
   ]
  },
  {
   "cell_type": "code",
   "execution_count": null,
   "id": "4a72b449",
   "metadata": {},
   "outputs": [],
   "source": [
    "association['from_namespace_rectified'] = association['from_namespace_rectified'].replace('RxNorm','RXNORM')\n",
    "association['from_namespace_rectified'] = association['from_namespace_rectified'].replace('MeSH','MSH')\n",
    "association['from_namespace_rectified'] = association['from_namespace_rectified'].replace('SNOMED CT','SNOMEDCT_US')"
   ]
  },
  {
   "cell_type": "code",
   "execution_count": null,
   "id": "bd0a2492",
   "metadata": {},
   "outputs": [],
   "source": [
    "association['to_namespace_rectified'] = association['to_namespace_rectified'].replace('RxNorm','RXNORM')\n",
    "association['to_namespace_rectified'] = association['to_namespace_rectified'].replace('MeSH','MSH')\n",
    "association['to_namespace_rectified'] = association['to_namespace_rectified'].replace('SNOMED CT','SNOMEDCT_US')"
   ]
  },
  {
   "cell_type": "code",
   "execution_count": null,
   "id": "dd30449c",
   "metadata": {},
   "outputs": [],
   "source": [
    "mrconsosub = mrconso[['SCUI','SAB','CUI']]"
   ]
  },
  {
   "cell_type": "code",
   "execution_count": null,
   "id": "e9554b5c",
   "metadata": {},
   "outputs": [],
   "source": [
    "mrconsosub.drop_duplicates(subset=None, keep=\"first\", inplace=True)"
   ]
  },
  {
   "cell_type": "code",
   "execution_count": null,
   "id": "3d06b9c3",
   "metadata": {},
   "outputs": [],
   "source": [
    "mrconsosub.to_csv('mrconsosub.csv', index=False, header=1, encoding='utf-8')"
   ]
  },
  {
   "cell_type": "markdown",
   "id": "2597c4db",
   "metadata": {},
   "source": [
    "We merge the two dataframes based on the matching column data"
   ]
  },
  {
   "cell_type": "code",
   "execution_count": null,
   "id": "7a4ab241",
   "metadata": {},
   "outputs": [],
   "source": [
    "asso_merge = pd.merge(association, mrconsosub, left_on=['from_code','from_namespace_rectified'] , right_on=['SCUI','SAB'],  how='left')"
   ]
  },
  {
   "cell_type": "code",
   "execution_count": null,
   "id": "81057e78",
   "metadata": {},
   "outputs": [],
   "source": [
    "asso_merge['from_CUI'] = asso_merge['CUI']"
   ]
  },
  {
   "cell_type": "code",
   "execution_count": null,
   "id": "93098c2d",
   "metadata": {},
   "outputs": [],
   "source": [
    "asso_merge['from_SAB'] = asso_merge['SAB']"
   ]
  },
  {
   "cell_type": "code",
   "execution_count": null,
   "id": "ce3e0291",
   "metadata": {},
   "outputs": [],
   "source": [
    "asso_merge['from_SCUI'] = asso_merge['SCUI']"
   ]
  },
  {
   "cell_type": "code",
   "execution_count": null,
   "id": "a925d516",
   "metadata": {},
   "outputs": [],
   "source": [
    "asso_merge.drop(labels=['SCUI','SAB','CUI'], axis=1, inplace=True)"
   ]
  },
  {
   "cell_type": "code",
   "execution_count": null,
   "id": "63a4af35",
   "metadata": {},
   "outputs": [],
   "source": [
    "asso_merge.drop_duplicates()"
   ]
  },
  {
   "cell_type": "code",
   "execution_count": null,
   "id": "15e8a0c7",
   "metadata": {},
   "outputs": [],
   "source": [
    "asso_merge_final = pd.merge(asso_merge, mrconsosub, left_on=['to_code','to_namespace_rectified'] , right_on=['SCUI','SAB'],  how='left')"
   ]
  },
  {
   "cell_type": "code",
   "execution_count": null,
   "id": "c6e3afd0",
   "metadata": {},
   "outputs": [],
   "source": [
    "asso_merge_final['to_CUI'] = asso_merge_final['CUI'] "
   ]
  },
  {
   "cell_type": "code",
   "execution_count": null,
   "id": "fdaace8d",
   "metadata": {},
   "outputs": [],
   "source": [
    "asso_merge_final['to_SAB'] = asso_merge_final['SAB']"
   ]
  },
  {
   "cell_type": "code",
   "execution_count": null,
   "id": "b9c624ab",
   "metadata": {},
   "outputs": [],
   "source": [
    "asso_merge_final['to_SCUI'] = asso_merge_final['SCUI']"
   ]
  },
  {
   "cell_type": "code",
   "execution_count": null,
   "id": "f244c13d",
   "metadata": {},
   "outputs": [],
   "source": [
    "asso_merge_final.drop(labels=['SCUI','SAB','CUI','from_SAB','to_SAB','from_SCUI','to_SCUI'], axis=1, inplace=True)"
   ]
  },
  {
   "cell_type": "code",
   "execution_count": null,
   "id": "018d5b85",
   "metadata": {},
   "outputs": [],
   "source": [
    "vers = version['version'].astype(str)\n",
    "asso_merge_final['version'] = vers[0]\n",
    "#asso_merge_final['version'] = asso_merge_final['version'].replace(asso_merge_final['version'],vers[0])"
   ]
  },
  {
   "cell_type": "code",
   "execution_count": null,
   "id": "34b9b3f9",
   "metadata": {},
   "outputs": [],
   "source": [
    "asso_merge_final.to_csv('Association_Merged_MEDRT.csv', index=False, header=1, encoding='utf-8')"
   ]
  },
  {
   "cell_type": "markdown",
   "id": "27c46274",
   "metadata": {},
   "source": [
    "##### Move the \"Association_Merged into the Neo4J import folder"
   ]
  },
  {
   "cell_type": "markdown",
   "id": "607c9eeb",
   "metadata": {},
   "source": [
    "### Creating relationships of MED-RT data into UMLS model"
   ]
  },
  {
   "cell_type": "code",
   "execution_count": null,
   "id": "3be47816",
   "metadata": {},
   "outputs": [],
   "source": [
    "import pandas as pd"
   ]
  },
  {
   "cell_type": "code",
   "execution_count": null,
   "id": "71314a7f",
   "metadata": {},
   "outputs": [],
   "source": [
    "import getpass\n",
    "password = getpass.getpass(\"\\nPlease enter the Neo4j database password to continue \\n\")"
   ]
  },
  {
   "cell_type": "code",
   "execution_count": null,
   "id": "03bbe6d1",
   "metadata": {},
   "outputs": [],
   "source": [
    "from neo4j import GraphDatabase\n",
    "driver=GraphDatabase.driver(uri=\"bolt://localhost:7687\", auth=('neo4j',password))\n",
    "session=driver.session()"
   ]
  },
  {
   "cell_type": "code",
   "execution_count": null,
   "id": "1d88931e",
   "metadata": {},
   "outputs": [],
   "source": [
    "# Create a node for each concept in the UMLS\n",
    "#query = '''USING PERIODIC COMMIT 100000 LOAD CSV FROM \"file:///CUIs_preferred_terms.csv\" AS COLUMN CREATE (:Concept_UMLS {preferred_term:COLUMN[1], cui:COLUMN[0], semantic_type:COLUMN[2], UMLS_edition:'2021AA'})'''\n",
    "\n",
    "#session.run(query)"
   ]
  },
  {
   "cell_type": "code",
   "execution_count": null,
   "id": "6a3a0d4c",
   "metadata": {},
   "outputs": [],
   "source": [
    "# Create a uniqueness constraint for the CUI property of each Concept_UMLS node\n",
    "#query = 'CREATE CONSTRAINT UniqueCUIforConceptConstraint ON (c:Concept_UMLS) ASSERT c.cui IS UNIQUE'\n",
    "#session.run(query)"
   ]
  },
  {
   "cell_type": "code",
   "execution_count": null,
   "id": "16e3eaca",
   "metadata": {},
   "outputs": [],
   "source": [
    "# Create the UMLS string nodes\n",
    "#query = '''USING PERIODIC COMMIT 100000 LOAD CSV FROM \"file:///str_to_CUI.csv\" AS COLUMN CREATE (s:String_UMLS {string:COLUMN[0], cui:COLUMN[1], semantic_type:COLUMN[2]})'''\n",
    "\n",
    "#session.run(query)"
   ]
  },
  {
   "cell_type": "code",
   "execution_count": null,
   "id": "c265ae9e",
   "metadata": {},
   "outputs": [],
   "source": [
    "command = '''USING PERIODIC COMMIT 100000 LOAD CSV WITH HEADERS FROM \"file:///Association_Merged_MEDRT.csv\" AS COLUMN MATCH (c1:Concept_UMLS {cui:COLUMN.from_CUI}) MATCH (c2:Concept_UMLS {cui:COLUMN.to_CUI}) OPTIONAL MATCH (c1)-[rel]->(c2) WITH c1, c2, COLUMN, COLLECT(TYPE(rel)) AS relTypes WHERE NOT COLUMN.name IN relTypes CALL apoc.create.relationship(c1, COLUMN.name, {source:COLUMN.namespace, version:COLUMN.version}, c2) YIELD rel as newrel RETURN c1, c2, newrel;'''\n",
    "session.run(command)"
   ]
  },
  {
   "cell_type": "markdown",
   "id": "367b0c31",
   "metadata": {},
   "source": [
    "### If you want to delete self loop relation - Synonym_Of "
   ]
  },
  {
   "cell_type": "markdown",
   "id": "fea1592c",
   "metadata": {},
   "source": [
    "###### Note - This can be used to remove any other self loop relationships as well, just replace 'Synonym Of' with the relationship name "
   ]
  },
  {
   "cell_type": "code",
   "execution_count": null,
   "id": "bb416e10",
   "metadata": {},
   "outputs": [],
   "source": [
    "#Delete self-loop relationship with name \"Synonym_Of\"\n",
    "\n",
    "#command = '''MATCH p=(n1)-[r:`Synonym Of`]->(n2) WHERE n1.cui = n2.cui DELETE r'''\n",
    "#session.run(command)"
   ]
  },
  {
   "cell_type": "markdown",
   "id": "6bbcaca0",
   "metadata": {},
   "source": [
    "###### Once you reach this point , you can delete all the existing variables. It is preferable to do so if your system cannot handle executing all of these codes in one go"
   ]
  },
  {
   "cell_type": "markdown",
   "id": "f1620770",
   "metadata": {},
   "source": [
    "      "
   ]
  },
  {
   "cell_type": "markdown",
   "id": "42e7db60",
   "metadata": {},
   "source": [
    "# Importing MeSH into UMLS model"
   ]
  },
  {
   "cell_type": "markdown",
   "id": "ec9f71b0",
   "metadata": {},
   "source": [
    "To download the MeSH data visit the link -  https://nlmpubs.nlm.nih.gov/projects/mesh/MESH_FILES/xmlmesh/\n",
    "\n",
    "For our code we are using desc2021.xml and supp2021.xml \n",
    "\n",
    "More information on MeSH can be found here - https://www.nlm.nih.gov/mesh/meshhome.html"
   ]
  },
  {
   "cell_type": "markdown",
   "id": "3818b5b0",
   "metadata": {},
   "source": [
    "### Refer to the procedure to get MeSH_Association_desc.csv  "
   ]
  },
  {
   "cell_type": "markdown",
   "id": "b8232dbd",
   "metadata": {},
   "source": [
    "Use the following codes in your Neo4J browser : (You must change the file retrieve location according to where you have stored the MeSH XML file)"
   ]
  },
  {
   "cell_type": "markdown",
   "id": "4023488b",
   "metadata": {},
   "source": [
    "Code 1:\n",
    "\n",
    "WITH \"CALL apoc.load.xml(\\\"file:///C:\\\\Users\\\\pc\\\\Desktop\\\\C-BIA\\\\Healthcare\\\\MeSH\\\\XML files\\\\Data\\\\desc2021.xml\\\" , '/DescriptorRecordSet/DescriptorRecord') YIELD value UNWIND value as desrec WITH [item in desrec._children WHERE item._type = \\\"DescriptorUI\\\"] AS Q, [item in desrec._children WHERE item._type = \\\"ConceptList\\\"] AS conceptlist1, desrec AS desrec UNWIND conceptlist1 AS conceptlist WITH [item in conceptlist._children WHERE item._type = \\\"Concept\\\"] AS concept1, Q AS Q, desrec AS desrec, conceptlist AS conceptlist UNWIND concept1 AS concept WITH [item in concept._children WHERE item._type = \\\"ConceptUI\\\"] AS ConceptUI, [item in concept._children WHERE item._type = \\\"ConceptRelationList\\\"] AS CRL1, Q AS Q, desrec AS desrec, conceptlist AS conceptlist, concept AS concept UNWIND CRL1 AS CRL WITH [item in CRL._children WHERE item._type = \\\"ConceptRelation\\\"] AS CR1, Q AS Q, desrec AS desrec, conceptlist AS conceptlist, concept AS concept,  ConceptUI AS  ConceptUI, CRL AS CRL UNWIND CR1 AS CR WITH [item in CR._children WHERE item._type = \\\"Concept1UI\\\"] AS C1UI, [item in CR._children WHERE item._type = \\\"Concept2UI\\\"] AS C2UI, Q AS Q, desrec AS desrec, conceptlist AS conceptlist, concept AS concept,  ConceptUI AS  ConceptUI, CRL AS CRL, CR AS CR RETURN DISTINCT \\\"MeSH\\\" AS namespace, CR.RelationName AS name, \\\"MeSH\\\" AS from_namespace, C1UI[0]._text AS from_code, \\\"MeSH\\\" AS to_namespace, C2UI[0]._text AS to_code, \\\"2021_2021.01.01\\\" AS version;\" as query\n",
    "CALL apoc.export.csv.query(query, \"MeSH_association_desc.csv\", {})\n",
    "YIELD file, source, format, nodes, relationships, properties, time, rows, batchSize, batches, done, data\n",
    "RETURN file, source, format, nodes, relationships, properties, time, rows, batchSize, batches, done, data;\n"
   ]
  },
  {
   "cell_type": "markdown",
   "id": "f6c950b4",
   "metadata": {},
   "source": [
    "Once this action is performed, \"MeSH_association_desc.csv\" will be created in your Neo4J dbms folder.\n",
    "\n",
    "It is recommended to move this file to another easily accessible location since we will be referencing it in the upcoming code "
   ]
  },
  {
   "cell_type": "markdown",
   "id": "2ea5c333",
   "metadata": {},
   "source": [
    "Code 2:"
   ]
  },
  {
   "cell_type": "markdown",
   "id": "ec340daa",
   "metadata": {},
   "source": [
    "WITH \"CALL apoc.load.xml(\\\"file:///C:\\\\Users\\\\pc\\\\Desktop\\\\C-BIA\\\\Healthcare\\\\MeSH\\\\XML files\\\\Data\\\\supp2021.xml\\\" , '/SupplementalRecordSet/ SupplementalRecord') YIELD value UNWIND value as desrec WITH [item in desrec._children WHERE item._type = \\\"SupplementalRecordUI\\\"] AS Q, [item in desrec._children WHERE item._type = \\\"ConceptList\\\"] AS conceptlist1, desrec AS desrec UNWIND conceptlist1 AS conceptlist WITH [item in conceptlist._children WHERE item._type = \\\"Concept\\\"] AS concept1, Q AS Q, desrec AS desrec, conceptlist AS conceptlist UNWIND concept1 AS concept WITH [item in concept._children WHERE item._type = \\\"ConceptUI\\\"] AS ConceptUI, [item in concept._children WHERE item._type = \\\"ConceptRelationList\\\"] AS CRL1, Q AS Q, desrec AS desrec, conceptlist AS conceptlist, concept AS concept UNWIND CRL1 AS CRL WITH [item in CRL._children WHERE item._type = \\\"ConceptRelation\\\"] AS CR1, Q AS Q, desrec AS desrec, conceptlist AS conceptlist, concept AS concept,  ConceptUI AS  ConceptUI, CRL AS CRL UNWIND CR1 AS CR WITH [item in CR._children WHERE item._type = \\\"Concept1UI\\\"] AS C1UI, [item in CR._children WHERE item._type = \\\"Concept2UI\\\"] AS C2UI, Q AS Q, desrec AS desrec, conceptlist AS conceptlist, concept AS concept,  ConceptUI AS  ConceptUI, CRL AS CRL, CR AS CR RETURN DISTINCT \\\"MeSH\\\" AS namespace, CR.RelationName AS name, \\\"MeSH\\\" AS from_namespace, C1UI[0]._text AS from_code, \\\"MeSH\\\" AS to_namespace, C2UI[0]._text AS to_code, \\\"2021_2021.01.01\\\" AS version;\" as query\n",
    "CALL apoc.export.csv.query(query, \"MeSH_association_supp.csv\", {})\n",
    "YIELD file, source, format, nodes, relationships, properties, time, rows, batchSize, batches, done, data\n",
    "RETURN file, source, format, nodes, relationships, properties, time, rows, batchSize, batches, done, data;\n"
   ]
  },
  {
   "cell_type": "markdown",
   "id": "09d3846d",
   "metadata": {},
   "source": [
    "###### Code 2 requires a higher amount of heap space. It is suggested to perform the steps below used on MeSH_association_desc for MeSH_association_supp as well"
   ]
  },
  {
   "cell_type": "code",
   "execution_count": null,
   "id": "6ef7f0e3",
   "metadata": {},
   "outputs": [],
   "source": [
    "import pandas as pd"
   ]
  },
  {
   "cell_type": "code",
   "execution_count": null,
   "id": "afab3dc4",
   "metadata": {},
   "outputs": [],
   "source": [
    "import numpy as np"
   ]
  },
  {
   "cell_type": "code",
   "execution_count": null,
   "id": "325d0a37",
   "metadata": {},
   "outputs": [],
   "source": [
    "# Load MRCONSO.RRF into a dataframe\n",
    "mrconso = pd.read_csv('C:/Users/pc/Desktop/C-BIA/Healthcare/UMLS/UMLS_Data/2021AA/META/MRCONSO.RRF', sep='|', header=None, encoding='utf-8')\n",
    "mrconso[:5]"
   ]
  },
  {
   "cell_type": "code",
   "execution_count": null,
   "id": "8d9102cb",
   "metadata": {},
   "outputs": [],
   "source": [
    "mrconso.columns = ['CUI', 'LAT', 'TS', 'LUI', 'STT', 'SUI', 'ISPREF', 'AUI', 'SAUI', 'SCUI', 'SDUI', 'SAB', 'TTY', 'CODE', 'STR', 'SRL', 'SUPPRESS', 'CVF', '']"
   ]
  },
  {
   "cell_type": "code",
   "execution_count": null,
   "id": "24fafc93",
   "metadata": {},
   "outputs": [],
   "source": [
    "mrconso.drop(labels=['SUPPRESS', 'CODE', 'CVF','SAUI','SDUI', ''], axis=1, inplace=True)"
   ]
  },
  {
   "cell_type": "code",
   "execution_count": null,
   "id": "92a2c9d0",
   "metadata": {},
   "outputs": [],
   "source": [
    "mrconso.info()"
   ]
  },
  {
   "cell_type": "code",
   "execution_count": null,
   "id": "1d3c04ee",
   "metadata": {},
   "outputs": [],
   "source": [
    "mrconso[:5]"
   ]
  },
  {
   "cell_type": "markdown",
   "id": "6b3a95f7",
   "metadata": {},
   "source": [
    "#### Merge - MRCONSO on Association\n"
   ]
  },
  {
   "cell_type": "markdown",
   "id": "2bfbd484",
   "metadata": {},
   "source": [
    "We perform merging of the association file to MRCONSO (UMLS) to match the CUI (UMLS) to the 'from_code' and the 'to_code' (SCUI in UMLS). This mapping is performed because our UMLS model nodes can be accessed with the CUI.\n",
    "Once we get the CUI mapping we can create the relationships (the column 'name' in association) and add our namespace (MED-RT in this case) and its verison."
   ]
  },
  {
   "cell_type": "code",
   "execution_count": null,
   "id": "392b0f3e",
   "metadata": {},
   "outputs": [],
   "source": [
    "#This file contains columns that can be mapped with UMLS data\n",
    "association = pd.read_csv(r'C:\\Users\\pc\\Desktop\\C-BIA\\Healthcare\\MeSH\\XML - CSV\\MeSH_association_desc.csv')"
   ]
  },
  {
   "cell_type": "markdown",
   "id": "e7391fbb",
   "metadata": {},
   "source": [
    "We create rectified namespace columns to change the namespace values to how it is in the UMLS data."
   ]
  },
  {
   "cell_type": "code",
   "execution_count": null,
   "id": "96e6a73d",
   "metadata": {},
   "outputs": [],
   "source": [
    "association['from_namespace_rectified'] = association['from_namespace']\n",
    "association['to_namespace_rectified'] = association['to_namespace']"
   ]
  },
  {
   "cell_type": "code",
   "execution_count": null,
   "id": "44cf5028",
   "metadata": {},
   "outputs": [],
   "source": [
    "association['from_namespace_rectified'] = association['from_namespace_rectified'].replace('RxNorm','RXNORM')\n",
    "association['from_namespace_rectified'] = association['from_namespace_rectified'].replace('MeSH','MSH')\n",
    "association['from_namespace_rectified'] = association['from_namespace_rectified'].replace('SNOMED CT','SNOMEDCT_US')"
   ]
  },
  {
   "cell_type": "code",
   "execution_count": null,
   "id": "c0ed8d50",
   "metadata": {},
   "outputs": [],
   "source": [
    "association['to_namespace_rectified'] = association['to_namespace_rectified'].replace('RxNorm','RXNORM')\n",
    "association['to_namespace_rectified'] = association['to_namespace_rectified'].replace('MeSH','MSH')\n",
    "association['to_namespace_rectified'] = association['to_namespace_rectified'].replace('SNOMED CT','SNOMEDCT_US')"
   ]
  },
  {
   "cell_type": "code",
   "execution_count": null,
   "id": "73b5dade",
   "metadata": {},
   "outputs": [],
   "source": [
    "mrconsosub = mrconso[['SCUI','SAB','CUI']]"
   ]
  },
  {
   "cell_type": "code",
   "execution_count": null,
   "id": "a1695dcc",
   "metadata": {},
   "outputs": [],
   "source": [
    "mrconsosub.drop_duplicates(subset=None, keep=\"first\", inplace=True)"
   ]
  },
  {
   "cell_type": "code",
   "execution_count": null,
   "id": "183499d3",
   "metadata": {},
   "outputs": [],
   "source": [
    "mrconsosub.to_csv('mrconsosub.csv', index=False, header=1, encoding='utf-8')"
   ]
  },
  {
   "cell_type": "code",
   "execution_count": null,
   "id": "67ac0640",
   "metadata": {},
   "outputs": [],
   "source": [
    "asso_merge = pd.merge(association, mrconsosub, left_on=['from_code','from_namespace_rectified'] , right_on=['SCUI','SAB'],  how='left')"
   ]
  },
  {
   "cell_type": "code",
   "execution_count": null,
   "id": "9b797a3f",
   "metadata": {},
   "outputs": [],
   "source": [
    "asso_merge['from_CUI'] = asso_merge['CUI']"
   ]
  },
  {
   "cell_type": "code",
   "execution_count": null,
   "id": "0a2cf169",
   "metadata": {},
   "outputs": [],
   "source": [
    "asso_merge['from_SAB'] = asso_merge['SAB']"
   ]
  },
  {
   "cell_type": "code",
   "execution_count": null,
   "id": "a21966c1",
   "metadata": {},
   "outputs": [],
   "source": [
    "asso_merge['from_SCUI'] = asso_merge['SCUI']"
   ]
  },
  {
   "cell_type": "code",
   "execution_count": null,
   "id": "b561f08c",
   "metadata": {},
   "outputs": [],
   "source": [
    "asso_merge.drop(labels=['SCUI','SAB','CUI'], axis=1, inplace=True)"
   ]
  },
  {
   "cell_type": "code",
   "execution_count": null,
   "id": "6eb72089",
   "metadata": {},
   "outputs": [],
   "source": [
    "asso_merge.drop_duplicates()"
   ]
  },
  {
   "cell_type": "code",
   "execution_count": null,
   "id": "1a937960",
   "metadata": {},
   "outputs": [],
   "source": [
    "asso_merge_final = pd.merge(asso_merge, mrconsosub, left_on=['to_code','to_namespace_rectified'] , right_on=['SCUI','SAB'],  how='left')"
   ]
  },
  {
   "cell_type": "code",
   "execution_count": null,
   "id": "dfe8ddce",
   "metadata": {},
   "outputs": [],
   "source": [
    "asso_merge_final['to_CUI'] = asso_merge_final['CUI'] "
   ]
  },
  {
   "cell_type": "code",
   "execution_count": null,
   "id": "ff247e90",
   "metadata": {},
   "outputs": [],
   "source": [
    "asso_merge_final['to_SAB'] = asso_merge_final['SAB']"
   ]
  },
  {
   "cell_type": "code",
   "execution_count": null,
   "id": "71ed1775",
   "metadata": {},
   "outputs": [],
   "source": [
    "asso_merge_final['to_SCUI'] = asso_merge_final['SCUI']"
   ]
  },
  {
   "cell_type": "code",
   "execution_count": null,
   "id": "aef8538c",
   "metadata": {},
   "outputs": [],
   "source": [
    "asso_merge_final.drop(labels=['SCUI','SAB','CUI','from_SAB','to_SAB','from_SCUI','to_SCUI'], axis=1, inplace=True)"
   ]
  },
  {
   "cell_type": "code",
   "execution_count": null,
   "id": "9f94812b",
   "metadata": {},
   "outputs": [],
   "source": [
    "#vers = version['version'].astype(str)\n",
    "#asso_merge_final['version'] = vers[0]\n",
    "#asso_merge_final['version'] = asso_merge_final['version'].replace(asso_merge_final['version'],vers[0])"
   ]
  },
  {
   "cell_type": "code",
   "execution_count": null,
   "id": "4998c963",
   "metadata": {},
   "outputs": [],
   "source": [
    "asso_merge_final.to_csv('MeSH_Association_Merged.csv', index=False, header=1, encoding='utf-8')"
   ]
  },
  {
   "cell_type": "markdown",
   "id": "9eed55eb",
   "metadata": {},
   "source": [
    "##### Move the \"MeSH_Association_Merged\" into the Neo4J import folder"
   ]
  },
  {
   "cell_type": "markdown",
   "id": "11560c4c",
   "metadata": {},
   "source": [
    "### Creating relationships of MeSH data into UMLS model"
   ]
  },
  {
   "cell_type": "code",
   "execution_count": null,
   "id": "427e5dda",
   "metadata": {},
   "outputs": [],
   "source": [
    "import pandas as pd"
   ]
  },
  {
   "cell_type": "code",
   "execution_count": null,
   "id": "c1fbf26a",
   "metadata": {},
   "outputs": [],
   "source": [
    "import getpass\n",
    "password = getpass.getpass(\"\\nPlease enter the Neo4j database password to continue \\n\")"
   ]
  },
  {
   "cell_type": "code",
   "execution_count": null,
   "id": "11187859",
   "metadata": {},
   "outputs": [],
   "source": [
    "from neo4j import GraphDatabase\n",
    "driver=GraphDatabase.driver(uri=\"bolt://localhost:7687\", auth=('neo4j',password))\n",
    "session=driver.session()"
   ]
  },
  {
   "cell_type": "code",
   "execution_count": null,
   "id": "ebe2307e",
   "metadata": {},
   "outputs": [],
   "source": [
    "# Create a node for each concept in the UMLS\n",
    "#query = '''USING PERIODIC COMMIT 100000 LOAD CSV FROM \"file:///CUIs_preferred_terms.csv\" AS COLUMN CREATE (:Concept_UMLS {preferred_term:COLUMN[1], cui:COLUMN[0], semantic_type:COLUMN[2], UMLS_edition:'2021AA'})'''\n",
    "\n",
    "#session.run(query)"
   ]
  },
  {
   "cell_type": "code",
   "execution_count": null,
   "id": "b98a7391",
   "metadata": {},
   "outputs": [],
   "source": [
    "# Create a uniqueness constraint for the CUI property of each Concept_UMLS node\n",
    "#query = 'CREATE CONSTRAINT UniqueCUIforConceptConstraint ON (c:Concept_UMLS) ASSERT c.cui IS UNIQUE'\n",
    "#session.run(query)"
   ]
  },
  {
   "cell_type": "code",
   "execution_count": null,
   "id": "dc2865cd",
   "metadata": {},
   "outputs": [],
   "source": [
    "# Create the UMLS string nodes\n",
    "#query = '''USING PERIODIC COMMIT 100000 LOAD CSV FROM \"file:///str_to_CUI.csv\" AS COLUMN CREATE (s:String_UMLS {string:COLUMN[0], cui:COLUMN[1], semantic_type:COLUMN[2]})'''\n",
    "\n",
    "#session.run(query)"
   ]
  },
  {
   "cell_type": "markdown",
   "id": "d12c5767",
   "metadata": {},
   "source": [
    "###### Sometimes python causes issue and the command below is not executed. In case such a thing happens , it's recommended to run the command again.\n",
    "\n",
    "To check if these specific relations were added, search in the Neo4J browser for relationship by the name of 'NRW' , 'BRD' , 'REL'. If these 3 exist , most probably all the relationships from the MeSH_Association_Merged.csv have been added."
   ]
  },
  {
   "cell_type": "markdown",
   "id": "6c016956",
   "metadata": {},
   "source": [
    "Use the following code to check if the relationship exist: (you can replace REL with the name of the relationship)\n",
    "\n",
    "MATCH p=()-[r:REL]->() RETURN p LIMIT 25"
   ]
  },
  {
   "cell_type": "code",
   "execution_count": null,
   "id": "10ad349f",
   "metadata": {},
   "outputs": [],
   "source": [
    "command = '''USING PERIODIC COMMIT 100000 LOAD CSV WITH HEADERS FROM \"file:///MeSH_Association_Merged.csv\" AS COLUMN MATCH (c1:Concept_UMLS {cui:COLUMN.from_CUI}) MATCH (c2:Concept_UMLS {cui:COLUMN.to_CUI}) OPTIONAL MATCH (c1)-[rel]->(c2) WITH c1, c2, COLUMN, COLLECT(TYPE(rel)) AS relTypes WHERE NOT COLUMN.name IN relTypes CALL apoc.create.relationship(c1, COLUMN.name, {source:COLUMN.namespace, version:COLUMN.version}, c2) YIELD rel as newrel RETURN c1, c2, newrel;'''\n",
    "session.run(command)"
   ]
  },
  {
   "cell_type": "markdown",
   "id": "df2a8875",
   "metadata": {},
   "source": [
    "###### Once you reach this point , you can delete all the existing variables. It is preferable to do so if your system cannot handle executing all of these codes in one go"
   ]
  },
  {
   "cell_type": "markdown",
   "id": "9d9ae5f6",
   "metadata": {},
   "source": [
    "       "
   ]
  },
  {
   "cell_type": "markdown",
   "id": "5a475127",
   "metadata": {},
   "source": [
    "# Importing RxNorm into UMLS Model"
   ]
  },
  {
   "cell_type": "markdown",
   "id": "5149237d",
   "metadata": {},
   "source": [
    "To download the MeSH data you must have an account on the NLM.NIH official site \n",
    "\n",
    "RxNorm technical documentation - https://www.nlm.nih.gov/research/umls/rxnorm/docs/techdoc.html#s1_0"
   ]
  },
  {
   "cell_type": "markdown",
   "id": "0ef3841a",
   "metadata": {},
   "source": [
    "We will perform merging of two files - RXNREL.RRF and RXNCONSO.RRF.\n",
    "\n",
    "This is necessary to get the necessary columns for further merging with MRCONSO (UMLS) so we can import our RxNorm data into our UMLS model"
   ]
  },
  {
   "cell_type": "code",
   "execution_count": null,
   "id": "6c02930e",
   "metadata": {},
   "outputs": [],
   "source": [
    "# Load RXNREL.RRF into a dataframe\n",
    "rxnrel = pd.read_csv('C:/Users/pc/Desktop/C-BIA/Healthcare/RxNorm/Data/rrf/RXNREL.RRF', sep='|', header=None, encoding='utf-8')\n",
    "rxnrel[:5]"
   ]
  },
  {
   "cell_type": "code",
   "execution_count": null,
   "id": "84c1dfdf",
   "metadata": {},
   "outputs": [],
   "source": [
    "rxnrel.columns = ['RXCUI1', 'RXAUI1', 'STYPE1', 'REL', 'RXCUI2', 'RXAUI2', 'STYPE2', 'RELA', 'RUI', 'SRUI', 'SAB', 'SL', 'RG☨', 'DIR☦', 'SUPPRESS', 'CVF', '']"
   ]
  },
  {
   "cell_type": "code",
   "execution_count": null,
   "id": "d2259b4d",
   "metadata": {
    "scrolled": true
   },
   "outputs": [],
   "source": [
    "rxnrel.info()"
   ]
  },
  {
   "cell_type": "code",
   "execution_count": null,
   "id": "0e1d0705",
   "metadata": {},
   "outputs": [],
   "source": [
    "rxnrel[:5]"
   ]
  },
  {
   "cell_type": "code",
   "execution_count": null,
   "id": "417d6dde",
   "metadata": {},
   "outputs": [],
   "source": [
    "# Load RXNCONSO.RRF into a dataframe\n",
    "rxnconso = pd.read_csv('C:/Users/pc/Desktop/C-BIA/Healthcare/RxNorm/Data/rrf/RXNCONSO.RRF', sep='|', header=None, encoding='utf-8')\n",
    "rxnconso[:5]"
   ]
  },
  {
   "cell_type": "code",
   "execution_count": null,
   "id": "df811415",
   "metadata": {},
   "outputs": [],
   "source": [
    "rxnconso.columns = ['RXCUI', 'LAT', 'TS', 'LUI', 'STT', 'SUI', 'ISPREF', 'RXAUI', 'SAUI', 'SCUI', 'SDUI', 'SAB', 'TTY', 'CODE', 'STR', 'SRL', 'SUPPRESS', 'CVF', '']"
   ]
  },
  {
   "cell_type": "code",
   "execution_count": null,
   "id": "ecea944b",
   "metadata": {},
   "outputs": [],
   "source": [
    "rxnconso[:5]"
   ]
  },
  {
   "cell_type": "code",
   "execution_count": null,
   "id": "76efc230",
   "metadata": {},
   "outputs": [],
   "source": [
    "rxnconso.info()"
   ]
  },
  {
   "cell_type": "code",
   "execution_count": null,
   "id": "5854593c",
   "metadata": {},
   "outputs": [],
   "source": [
    "rxnrel.info()"
   ]
  },
  {
   "cell_type": "code",
   "execution_count": null,
   "id": "7317354e",
   "metadata": {},
   "outputs": [],
   "source": [
    "check = ['788773']\n",
    "rxnconso[rxnconso.RXAUI.isin(check)]"
   ]
  },
  {
   "cell_type": "code",
   "execution_count": null,
   "id": "5f3306ab",
   "metadata": {},
   "outputs": [],
   "source": [
    "rxnrelsub = rxnrel\n",
    "rxnconsosub = rxnconso"
   ]
  },
  {
   "cell_type": "code",
   "execution_count": null,
   "id": "2116b5e5",
   "metadata": {},
   "outputs": [],
   "source": [
    "rxnconsosub.drop(labels=['TS', 'STT', 'ISPREF', 'SRL', 'LUI', 'SUI', 'SUPPRESS', 'CVF','SAUI','SDUI', ''], axis=1, inplace=True)"
   ]
  },
  {
   "cell_type": "code",
   "execution_count": null,
   "id": "10abec69",
   "metadata": {},
   "outputs": [],
   "source": [
    "rxnrelsub.drop(labels=['DIR☦', 'RG☨', 'SRUI', 'SL', 'SUPPRESS', 'CVF', ''], axis=1, inplace=True)"
   ]
  },
  {
   "cell_type": "code",
   "execution_count": null,
   "id": "bfdb88ad",
   "metadata": {},
   "outputs": [],
   "source": [
    "rxnrelsub[:5]"
   ]
  },
  {
   "cell_type": "code",
   "execution_count": null,
   "id": "e057eff3",
   "metadata": {},
   "outputs": [],
   "source": [
    "rxnconsosub[:5]"
   ]
  },
  {
   "cell_type": "code",
   "execution_count": null,
   "id": "e226ff90",
   "metadata": {},
   "outputs": [],
   "source": [
    "check = ['2666961']\n",
    "rxnconsosub[rxnconsosub.RXAUI.isin(check)]"
   ]
  },
  {
   "cell_type": "code",
   "execution_count": null,
   "id": "8f448c31",
   "metadata": {},
   "outputs": [],
   "source": [
    "rxnrel[rxnrel.RXCUI1.notnull()]"
   ]
  },
  {
   "cell_type": "code",
   "execution_count": null,
   "id": "6bffcf3d",
   "metadata": {},
   "outputs": [],
   "source": [
    "#check = ['38.0']\n",
    "#rxnconsosub[rxnconsosub.RXCUI.isin(check)]"
   ]
  },
  {
   "cell_type": "code",
   "execution_count": null,
   "id": "422d2c63",
   "metadata": {},
   "outputs": [],
   "source": [
    "#rxnconsosub = rxnconsosub.astype({'RXCUI': 'float', 'RXAUI': 'float'})"
   ]
  },
  {
   "cell_type": "code",
   "execution_count": null,
   "id": "aa78a522",
   "metadata": {},
   "outputs": [],
   "source": [
    "rxnconsosub.info()"
   ]
  },
  {
   "cell_type": "code",
   "execution_count": null,
   "id": "722af2a2",
   "metadata": {},
   "outputs": [],
   "source": [
    "check = ['788773']\n",
    "rxnrelsub[rxnrelsub.RXAUI1.isin(check)]"
   ]
  },
  {
   "cell_type": "markdown",
   "id": "831b0547",
   "metadata": {},
   "source": [
    "#### Merging based on SCUI column for RXNREL and RXNCONSO "
   ]
  },
  {
   "cell_type": "markdown",
   "id": "8b8ca072",
   "metadata": {},
   "source": [
    "We divide RXNREL.RRF into two parts.\n",
    "\n",
    "RXNREL contains data where either the RxNorm AUI or the RxNorm CUI is mentioned for the nodes having a relationship. Since we ultimately need to use both the columns, we divide data into two dataframes, one where the AUI are given and one where the CUI are given. After moulding the columns as required we merge the final output of both these dataframes back into one single dataframe."
   ]
  },
  {
   "cell_type": "code",
   "execution_count": null,
   "id": "319b7572",
   "metadata": {},
   "outputs": [],
   "source": [
    "rxnrelcui = rxnrelsub[rxnrelsub.RXCUI1.notnull()]"
   ]
  },
  {
   "cell_type": "code",
   "execution_count": null,
   "id": "35fc1e22",
   "metadata": {},
   "outputs": [],
   "source": [
    "rxnrelaui = rxnrelsub[rxnrelsub.RXAUI1.notnull()]"
   ]
  },
  {
   "cell_type": "code",
   "execution_count": null,
   "id": "770e9c85",
   "metadata": {},
   "outputs": [],
   "source": [
    "asso_merge1 = pd.merge(rxnrelaui, rxnconsosub, left_on=['RXAUI1','SAB'] , right_on=['RXAUI','SAB'],  how='left')"
   ]
  },
  {
   "cell_type": "code",
   "execution_count": null,
   "id": "7220ff14",
   "metadata": {},
   "outputs": [],
   "source": [
    "asso_merge1.drop_duplicates(subset=None, keep=\"first\", inplace=True)"
   ]
  },
  {
   "cell_type": "code",
   "execution_count": null,
   "id": "d0c9a11d",
   "metadata": {},
   "outputs": [],
   "source": [
    "asso_merge1['from_SCUI'] = asso_merge1['SCUI']\n",
    "asso_merge1['from_namespace'] = asso_merge1['SAB']"
   ]
  },
  {
   "cell_type": "code",
   "execution_count": null,
   "id": "f29ea79d",
   "metadata": {},
   "outputs": [],
   "source": [
    "asso_merge1.drop(labels=['RXCUI', 'LAT', 'RXAUI', 'SCUI', 'TTY', 'STR', 'CODE'], axis=1, inplace=True)"
   ]
  },
  {
   "cell_type": "code",
   "execution_count": null,
   "id": "a3db9ce1",
   "metadata": {},
   "outputs": [],
   "source": [
    "asso_merge2 = pd.merge(asso_merge1, rxnconsosub, left_on=['RXAUI2','SAB'] , right_on=['RXAUI','SAB'],  how='left')"
   ]
  },
  {
   "cell_type": "code",
   "execution_count": null,
   "id": "e81305a4",
   "metadata": {},
   "outputs": [],
   "source": [
    "asso_merge2.drop_duplicates(subset=None, keep=\"first\", inplace=True)"
   ]
  },
  {
   "cell_type": "code",
   "execution_count": null,
   "id": "b8e87e5e",
   "metadata": {},
   "outputs": [],
   "source": [
    "asso_merge2['to_SCUI'] = asso_merge2['SCUI']\n",
    "asso_merge2['to_namespace'] = asso_merge2['SAB']"
   ]
  },
  {
   "cell_type": "code",
   "execution_count": null,
   "id": "66fc936d",
   "metadata": {},
   "outputs": [],
   "source": [
    "#asso_merge2.drop(labels=['RXCUI', 'LAT', 'RXAUI', 'SCUI', 'TTY', 'STR', 'CODE'], axis=1, inplace=True)"
   ]
  },
  {
   "cell_type": "code",
   "execution_count": null,
   "id": "2391b4ce",
   "metadata": {},
   "outputs": [],
   "source": [
    "asso_merge3 = pd.merge(rxnrelcui, rxnconsosub, left_on=['RXCUI1','SAB'] , right_on=['RXCUI','SAB'],  how='left')"
   ]
  },
  {
   "cell_type": "code",
   "execution_count": null,
   "id": "db53a290",
   "metadata": {},
   "outputs": [],
   "source": [
    "asso_merge3.drop_duplicates(subset=None, keep=\"first\", inplace=True)"
   ]
  },
  {
   "cell_type": "code",
   "execution_count": null,
   "id": "c1a87072",
   "metadata": {},
   "outputs": [],
   "source": [
    "asso_merge3['from_SCUI'] = asso_merge3['SCUI']\n",
    "asso_merge3['from_namespace'] = asso_merge3['SAB']"
   ]
  },
  {
   "cell_type": "code",
   "execution_count": null,
   "id": "e9227e47",
   "metadata": {},
   "outputs": [],
   "source": [
    "asso_merge3.drop(labels=['RXCUI', 'LAT', 'RXAUI', 'SCUI', 'TTY', 'STR', 'CODE'], axis=1, inplace=True)"
   ]
  },
  {
   "cell_type": "code",
   "execution_count": null,
   "id": "d7cc3b48",
   "metadata": {},
   "outputs": [],
   "source": [
    "asso_merge4 = pd.merge(asso_merge3, rxnconsosub, left_on=['RXCUI2','SAB'] , right_on=['RXCUI','SAB'],  how='left')"
   ]
  },
  {
   "cell_type": "code",
   "execution_count": null,
   "id": "9c96433e",
   "metadata": {},
   "outputs": [],
   "source": [
    "asso_merge4.drop_duplicates(subset=None, keep=\"first\", inplace=True)"
   ]
  },
  {
   "cell_type": "code",
   "execution_count": null,
   "id": "a9ed4acd",
   "metadata": {},
   "outputs": [],
   "source": [
    "asso_merge4['to_SCUI'] = asso_merge4['SCUI']\n",
    "asso_merge4['to_namespace'] = asso_merge4['SAB']"
   ]
  },
  {
   "cell_type": "code",
   "execution_count": null,
   "id": "72dbbc5b",
   "metadata": {},
   "outputs": [],
   "source": [
    "asso_mergef = pd.concat([asso_merge2,asso_merge4], ignore_index=True)"
   ]
  },
  {
   "cell_type": "code",
   "execution_count": null,
   "id": "6fdc32c1",
   "metadata": {},
   "outputs": [],
   "source": [
    "asso_mergef.drop(labels=['RXCUI', 'LAT', 'RXAUI', 'SCUI', 'TTY', 'STR', 'CODE'], axis=1, inplace=True)"
   ]
  },
  {
   "cell_type": "code",
   "execution_count": null,
   "id": "f76003ce",
   "metadata": {},
   "outputs": [],
   "source": [
    "asso_mergef.drop_duplicates(subset=None, keep=\"first\", inplace=True)"
   ]
  },
  {
   "cell_type": "code",
   "execution_count": null,
   "id": "66f323ca",
   "metadata": {},
   "outputs": [],
   "source": [
    "asso_mergef = asso_mergef[asso_mergef.from_SCUI.notnull()]\n",
    "asso_mergef = asso_mergef[asso_mergef.to_SCUI.notnull()]"
   ]
  },
  {
   "cell_type": "code",
   "execution_count": null,
   "id": "b9c85246",
   "metadata": {},
   "outputs": [],
   "source": [
    "asso_mergef[:5]"
   ]
  },
  {
   "cell_type": "code",
   "execution_count": null,
   "id": "137790d9",
   "metadata": {},
   "outputs": [],
   "source": [
    "asso_mergef['from_namespace_rectified'] = asso_mergef['from_namespace'].replace('RxNorm','RXNORM')\n",
    "asso_mergef['from_namespace_rectified'] = asso_mergef['from_namespace'].replace('MeSH','MSH')\n",
    "asso_mergef['from_namespace_rectified'] = asso_mergef['from_namespace'].replace('SNOMED CT','SNOMEDCT_US')"
   ]
  },
  {
   "cell_type": "code",
   "execution_count": null,
   "id": "c018eafa",
   "metadata": {},
   "outputs": [],
   "source": [
    "asso_mergef['to_namespace_rectified'] = asso_mergef['to_namespace'].replace('RxNorm','RXNORM')\n",
    "asso_mergef['to_namespace_rectified'] = asso_mergef['to_namespace'].replace('MeSH','MSH')\n",
    "asso_mergef['to_namespace_rectified'] = asso_mergef['to_namespace'].replace('SNOMED CT','SNOMEDCT_US')"
   ]
  },
  {
   "cell_type": "code",
   "execution_count": null,
   "id": "204d0201",
   "metadata": {},
   "outputs": [],
   "source": [
    "asso_mergef.to_csv('Association_Merged_RXN_incomplete.csv', index=False, header=1, encoding='utf-8')"
   ]
  },
  {
   "cell_type": "markdown",
   "id": "83de08ac",
   "metadata": {},
   "source": [
    "### Merging with MRCONSO "
   ]
  },
  {
   "cell_type": "markdown",
   "id": "bd63c629",
   "metadata": {},
   "source": [
    "We perform merging of the association file to MRCONSO (UMLS) to match the CUI (UMLS) to the 'from_code' and the 'to_code' (SCUI in UMLS). This mapping is performed because our UMLS model nodes can be accessed with the CUI.\n",
    "Once we get the CUI mapping we can create the relationships (the column 'name' in association) and add our namespace (MED-RT in this case) and its verison."
   ]
  },
  {
   "cell_type": "code",
   "execution_count": null,
   "id": "a9e85b5a",
   "metadata": {},
   "outputs": [],
   "source": [
    "# Load MRCONSO.RRF into a dataframe\n",
    "mrconso = pd.read_csv('C:/Users/pc/Desktop/C-BIA/Healthcare/UMLS/UMLS_Data/2021AA/META/MRCONSO.RRF', sep='|', header=None, encoding='utf-8')\n",
    "mrconso[:5]"
   ]
  },
  {
   "cell_type": "code",
   "execution_count": null,
   "id": "800ef10c",
   "metadata": {},
   "outputs": [],
   "source": [
    "mrconso.columns = ['CUI', 'LAT', 'TS', 'LUI', 'STT', 'SUI', 'ISPREF', 'AUI', 'SAUI', 'SCUI', 'SDUI', 'SAB', 'TTY', 'CODE', 'STR', 'SRL', 'SUPPRESS', 'CVF', '']"
   ]
  },
  {
   "cell_type": "code",
   "execution_count": null,
   "id": "b140fd89",
   "metadata": {},
   "outputs": [],
   "source": [
    "mrconsosub = mrconso[['SCUI','CUI','SAB']]\n",
    "mrconsosub.info()"
   ]
  },
  {
   "cell_type": "code",
   "execution_count": null,
   "id": "409a8d0c",
   "metadata": {},
   "outputs": [],
   "source": [
    "asso_mergef_sub = asso_mergef"
   ]
  },
  {
   "cell_type": "code",
   "execution_count": null,
   "id": "3820f186",
   "metadata": {},
   "outputs": [],
   "source": [
    "asso_mergef2 = pd.merge(asso_mergef_sub, mrconsosub, left_on=['from_SCUI','from_namespace_rectified'] , right_on=['SCUI','SAB'],  how='left')"
   ]
  },
  {
   "cell_type": "code",
   "execution_count": null,
   "id": "c95d9d43",
   "metadata": {},
   "outputs": [],
   "source": [
    "asso_mergef2.drop_duplicates(subset=None, keep=\"first\", inplace=True)"
   ]
  },
  {
   "cell_type": "code",
   "execution_count": null,
   "id": "1ec93a10",
   "metadata": {},
   "outputs": [],
   "source": [
    "asso_mergef2.info()"
   ]
  },
  {
   "cell_type": "code",
   "execution_count": null,
   "id": "a16efa21",
   "metadata": {},
   "outputs": [],
   "source": [
    "asso_mergef2['from_CUI'] = asso_mergef2['CUI']"
   ]
  },
  {
   "cell_type": "code",
   "execution_count": null,
   "id": "b5eec9c6",
   "metadata": {},
   "outputs": [],
   "source": [
    "asso_mergef2.drop(labels=['CUI','SCUI'], axis=1, inplace=True)"
   ]
  },
  {
   "cell_type": "code",
   "execution_count": null,
   "id": "757d54d8",
   "metadata": {},
   "outputs": [],
   "source": [
    "asso_mergef2 = pd.merge(asso_mergef2, mrconsosub, left_on=['to_SCUI','to_namespace_rectified'] , right_on=['SCUI','SAB'],  how='left')"
   ]
  },
  {
   "cell_type": "code",
   "execution_count": null,
   "id": "438a8636",
   "metadata": {},
   "outputs": [],
   "source": [
    "asso_mergef2.drop_duplicates(subset=None, keep=\"first\", inplace=True)"
   ]
  },
  {
   "cell_type": "code",
   "execution_count": null,
   "id": "51266ce4",
   "metadata": {},
   "outputs": [],
   "source": [
    "asso_mergef2['to_CUI'] = asso_mergef2['CUI']"
   ]
  },
  {
   "cell_type": "code",
   "execution_count": null,
   "id": "625b50bb",
   "metadata": {},
   "outputs": [],
   "source": [
    "asso_mergef2.drop(labels=['CUI','SCUI'], axis=1, inplace=True)"
   ]
  },
  {
   "cell_type": "code",
   "execution_count": null,
   "id": "3cb701cd",
   "metadata": {},
   "outputs": [],
   "source": [
    "asso_mergef2.info()"
   ]
  },
  {
   "cell_type": "code",
   "execution_count": null,
   "id": "e70ba8a7",
   "metadata": {},
   "outputs": [],
   "source": [
    "asso_mergef2.drop_duplicates(subset=None, keep=\"first\", inplace=True)"
   ]
  },
  {
   "cell_type": "code",
   "execution_count": null,
   "id": "df5c7b46",
   "metadata": {},
   "outputs": [],
   "source": [
    "asso_mergef2.info()"
   ]
  },
  {
   "cell_type": "code",
   "execution_count": null,
   "id": "2db9b7d0",
   "metadata": {},
   "outputs": [],
   "source": [
    "asso_mergef2['version'] = '2021.09.07.21AA'\n",
    "asso_mergef2['namespace'] = 'RxNorm'\n",
    "asso_mergef2['name'] = asso_mergef2['REL']\n",
    "asso_mergef2[:5]"
   ]
  },
  {
   "cell_type": "code",
   "execution_count": null,
   "id": "2d1f4e49",
   "metadata": {},
   "outputs": [],
   "source": [
    "asso_mergef2.to_csv('Association_Merged_RXN_check.csv', index=False, header=1, encoding='utf-8')"
   ]
  },
  {
   "cell_type": "markdown",
   "id": "ea7925d5",
   "metadata": {},
   "source": [
    "##### Move the \"Association_Merged_RXN_check\" into the Neo4J import folder"
   ]
  },
  {
   "cell_type": "markdown",
   "id": "5af35a48",
   "metadata": {},
   "source": [
    "## Importing in Neo4J "
   ]
  },
  {
   "cell_type": "code",
   "execution_count": null,
   "id": "d27c3761",
   "metadata": {},
   "outputs": [],
   "source": [
    "import pandas as pd"
   ]
  },
  {
   "cell_type": "code",
   "execution_count": null,
   "id": "a2b0e74e",
   "metadata": {},
   "outputs": [],
   "source": [
    "import getpass\n",
    "password = getpass.getpass(\"\\nPlease enter the Neo4j database password to continue \\n\")"
   ]
  },
  {
   "cell_type": "code",
   "execution_count": null,
   "id": "fcb8f67a",
   "metadata": {},
   "outputs": [],
   "source": [
    "from neo4j import GraphDatabase\n",
    "driver=GraphDatabase.driver(uri=\"bolt://localhost:7687\", auth=('neo4j',password))\n",
    "session=driver.session()"
   ]
  },
  {
   "cell_type": "code",
   "execution_count": null,
   "id": "17606c79",
   "metadata": {},
   "outputs": [],
   "source": [
    "# Create a node for each concept in the UMLS\n",
    "#query = '''USING PERIODIC COMMIT 100000 LOAD CSV FROM \"file:///CUIs_preferred_terms.csv\" AS COLUMN CREATE (:Concept_UMLS {preferred_term:COLUMN[1], cui:COLUMN[0], semantic_type:COLUMN[2], UMLS_edition:'2021AA'})'''\n",
    "\n",
    "#session.run(query)"
   ]
  },
  {
   "cell_type": "code",
   "execution_count": null,
   "id": "9f69fadd",
   "metadata": {},
   "outputs": [],
   "source": [
    "# Create a uniqueness constraint for the CUI property of each Concept_UMLS node\n",
    "#query = 'CREATE CONSTRAINT UniqueCUIforConceptConstraint ON (c:Concept_UMLS) ASSERT c.cui IS UNIQUE'\n",
    "#session.run(query)"
   ]
  },
  {
   "cell_type": "code",
   "execution_count": null,
   "id": "d186f52b",
   "metadata": {},
   "outputs": [],
   "source": [
    "# Create the UMLS string nodes\n",
    "#query = '''USING PERIODIC COMMIT 100000 LOAD CSV FROM \"file:///str_to_CUI.csv\" AS COLUMN CREATE (s:String_UMLS {string:COLUMN[0], cui:COLUMN[1], semantic_type:COLUMN[2]})'''\n",
    "\n",
    "#session.run(query)"
   ]
  },
  {
   "cell_type": "markdown",
   "id": "611c17e6",
   "metadata": {},
   "source": [
    "###### Sometimes python causes issue and the command below is not executed. In case such a thing happens , it's recommended to run the cell/command again.\n",
    "\n",
    "To check if these specific relations were added, search in the Neo4J browser for relationship by the name of 'CHD' , 'SIB' , 'SY'. If these 3 exist , most probably all the relationships from the Association_Merged_RXN.csv have been added."
   ]
  },
  {
   "cell_type": "markdown",
   "id": "72d5aa29",
   "metadata": {},
   "source": [
    "Use the following code to check if the relationship exist: (you can replace CHD with the name of the relationship)\n",
    "\n",
    "MATCH p=()-[r:CHD]->() RETURN p LIMIT 25"
   ]
  },
  {
   "cell_type": "code",
   "execution_count": null,
   "id": "25a1135f",
   "metadata": {},
   "outputs": [],
   "source": [
    "command = '''USING PERIODIC COMMIT 1000000 LOAD CSV WITH HEADERS FROM \"file:///Association_Merged_RXN_check.csv\" AS COLUMN MATCH (c1:Concept_UMLS {cui:COLUMN.from_CUI}) MATCH (c2:Concept_UMLS {cui:COLUMN.to_CUI}) OPTIONAL MATCH (c1)-[rel]->(c2) WITH c1, c2, COLUMN, COLLECT(TYPE(rel)) AS relTypes WHERE NOT COLUMN.name IN relTypes CALL apoc.create.relationship(c1, COLUMN.name, {source:COLUMN.namespace, version:COLUMN.version, REL_Additional:COLUMN.RELA}, c2) YIELD rel as newrel RETURN c1, c2, newrel;'''\n",
    "session.run(command)"
   ]
  },
  {
   "cell_type": "markdown",
   "id": "2d474346",
   "metadata": {},
   "source": [
    "### Regarding the Relationships created after executing the code\n",
    "\n",
    "The following link contains information about what the relationship names stand for: https://www.nlm.nih.gov/research/umls/knowledge_sources/metathesaurus/release/abbreviations.html#mrdoc_REL\n",
    "\n"
   ]
  }
 ],
 "metadata": {
  "kernelspec": {
   "display_name": "Python 3",
   "language": "python",
   "name": "python3"
  },
  "language_info": {
   "codemirror_mode": {
    "name": "ipython",
    "version": 3
   },
   "file_extension": ".py",
   "mimetype": "text/x-python",
   "name": "python",
   "nbconvert_exporter": "python",
   "pygments_lexer": "ipython3",
   "version": "3.8.8"
  }
 },
 "nbformat": 4,
 "nbformat_minor": 5
}
