{
 "cells": [
  {
   "cell_type": "markdown",
   "id": "boring-divide",
   "metadata": {},
   "source": [
    "# Multi-source data import \n",
    "\n",
    "Sources:\n",
    "- MIMIC-III. Covers the years 2001-2012. Has free-text notes.  \n",
    "- MIMIC-IV. Covers the years  2008 - 2019. Has physician order entry data, reference ranges for lab values, and some other changes. Doesn't have free-text notes as of this writing.\n",
    "- UMLS. Provides a common set of concepts that form a central connection point for many other sources such as RxNorm and MeSH.\n",
    "- RxNorm. Has drug-drug and drug-disease interactions, indications, contraindications, etc.  \n",
    "- MeSH. Has broader-narrower relationships among hierarchically-related terms."
   ]
  },
  {
   "cell_type": "markdown",
   "id": "immediate-qualification",
   "metadata": {},
   "source": [
    "## Information about each source"
   ]
  },
  {
   "cell_type": "markdown",
   "id": "assumed-recognition",
   "metadata": {},
   "source": [
    "### MIMIC-III\n",
    "Schema of MIMIC-III: https://mit-lcp.github.io/mimic-schema-spy/index.html"
   ]
  },
  {
   "cell_type": "markdown",
   "id": "exciting-neighbor",
   "metadata": {},
   "source": [
    "### MIMIC-IV\n",
    "Documentation for MIMIC-IV (no schema on schema spy as of this writing): "
   ]
  },
  {
   "cell_type": "markdown",
   "id": "industrial-photograph",
   "metadata": {},
   "source": [
    "### RxNorm \n",
    "Connect various forms/dosages/routes of a clinical drug to the underlying pharmacologic substance  \n",
    "![](images/RxNorm_relationships_among_RXCUIs.png)  \n",
    "Note the \"TTY\" field from the graph above corresponds to the heading of each box below.  \n",
    "![](images/RxNorm_CUIs_related_to_coumadin.png)\n",
    "\n",
    "Relate each pharmacologic substance to other drugs with interaction info  \n",
    "![](images/RxNorm_drug_interactions_warfarin.png)  \n",
    "\n",
    "Connect clinically relevant properties of drugs   \n",
    "![](images/RxNorm_clinical_properties_relationships.png)  \n",
    "\n",
    "RxNorm main landing page: https://www.nlm.nih.gov/research/umls/rxnorm/index.html\n",
    "AMIA article describing RxNorm: https://www.ncbi.nlm.nih.gov/pmc/articles/PMC3128404/  \n",
    "Data downloads: https://www.nlm.nih.gov/research/umls/rxnorm/docs/rxnormfiles.html  \n",
    "Web-based browser: https://mor.nlm.nih.gov/RxNav/search?searchBy=String&searchTerm=coumadin  \n",
    "Technical docs: https://www.nlm.nih.gov/research/umls/rxnorm/docs/index.html  \n"
   ]
  },
  {
   "cell_type": "markdown",
   "id": "blind-postcard",
   "metadata": {},
   "source": [
    "### MeSH\n",
    "Connect heirarchically-related terms with broader-narrower relationships\n",
    "![Broader-narrower relationships among MeSH concepts](images/MeSH_relationships.png)  \n",
    "MeSH contributes broader-narrower connections as displayed in the UMLS browser:  \n",
    "![](images/MeSH_broader_narrower_in_UMLSbrowser.png)\n",
    "\n",
    "RDF format for MeSH: https://id.nlm.nih.gov/mesh/, https://hhs.github.io/meshrdf/  \n",
    "Concept structure of MeSH: https://www.nlm.nih.gov/mesh/concept_structure.html\n"
   ]
  },
  {
   "cell_type": "markdown",
   "id": "unknown-regular",
   "metadata": {},
   "source": [
    "## Data model to connect the various data sources"
   ]
  },
  {
   "cell_type": "markdown",
   "id": "pressing-spectrum",
   "metadata": {},
   "source": [
    "MIMIC-IV d_labitems loinc_code connects to UMLS by LOINC code"
   ]
  }
 ],
 "metadata": {
  "kernelspec": {
   "display_name": "Python 3",
   "language": "python",
   "name": "python3"
  },
  "language_info": {
   "codemirror_mode": {
    "name": "ipython",
    "version": 3
   },
   "file_extension": ".py",
   "mimetype": "text/x-python",
   "name": "python",
   "nbconvert_exporter": "python",
   "pygments_lexer": "ipython3",
   "version": "3.9.1"
  }
 },
 "nbformat": 4,
 "nbformat_minor": 5
}
