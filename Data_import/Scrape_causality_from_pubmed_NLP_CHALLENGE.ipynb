{
 "cells": [
  {
   "cell_type": "markdown",
   "id": "brazilian-bruce",
   "metadata": {},
   "source": [
    "# Scraping the medical literature to add causal relationships among UMLS concepts in the graph database"
   ]
  },
  {
   "cell_type": "markdown",
   "id": "terminal-update",
   "metadata": {},
   "source": [
    "## The Problem"
   ]
  },
  {
   "cell_type": "markdown",
   "id": "completed-attack",
   "metadata": {},
   "source": [
    "![](images/Causal_expansion1.png)"
   ]
  },
  {
   "cell_type": "markdown",
   "id": "removable-appearance",
   "metadata": {},
   "source": [
    "The picture above illustrates one powerful use of causal relationships among diseases and their downstream effects. We can see a chain of causation that flows from the use of methamphatamines to death."
   ]
  },
  {
   "cell_type": "markdown",
   "id": "juvenile-little",
   "metadata": {},
   "source": [
    "![](images/Causal_expansion2.png)"
   ]
  },
  {
   "cell_type": "markdown",
   "id": "elegant-frederick",
   "metadata": {},
   "source": [
    "If we look at the longest path between methamphetamine use and death, we see the most detailed cause-effect chain known. In this example, there is an opportunity to intervene at each point in the cause-effect chain, and in a typical patient who is experiencing heart failure due to methamphetamine use, we do intervene at multiple points as shown here. "
   ]
  },
  {
   "cell_type": "markdown",
   "id": "asian-stanford",
   "metadata": {},
   "source": [
    "![](images/Concept_nodes_example.png)"
   ]
  },
  {
   "cell_type": "markdown",
   "id": "forty-poker",
   "metadata": {},
   "source": [
    "The Unified Medical Language System (UMLS) has collected about 4.3 million medical concepts, which have been imported as nodes in our working group's graph database. There are some data sources which specify some relationships among these nodes, but so far we have not yet found any data source which shows direct <strong>causal</strong> relationships among them. "
   ]
  },
  {
   "cell_type": "markdown",
   "id": "changed-assets",
   "metadata": {},
   "source": [
    "## Mission\n",
    "<strong>Scrape the world's medical literature to find causal relationships among UMLS concepts and add the relationships to the graph.</strong>\n",
    "\n",
    "Example:\n",
    "\n",
    "Starting with an input string like this:  \n",
    ">'The autopsy showed no evidence of osteosarcoma, and the likely cause of death was cardiac failure with the evidence of pulmonary congestion, liver congestion, and multiple body cavity effusions.'  \n",
    "\n",
    "Do some of this magic:  \n",
    "![](images/sentence_parsing.svg)  \n",
    "Source: https://allenai.github.io/scispacy/\n",
    "\n",
    "And output a table that looks something like this:  \n",
    "\n",
    "|Concept_1|Relationship|Concept_2|Source PMID|  \n",
    "|---|---|---|---|  \n",
    "|cardiac failure|CAUSES|death|33554025|  "
   ]
  },
  {
   "cell_type": "markdown",
   "id": "lonely-surfing",
   "metadata": {},
   "source": [
    "## Helpful tools"
   ]
  },
  {
   "cell_type": "markdown",
   "id": "statutory-thompson",
   "metadata": {},
   "source": [
    "### Access NCBI API to get causal strings\n",
    "\n",
    "The following endpoints are provided by the National Center for Biotechnology Information([NCBI](https://www.ncbi.nlm.nih.gov/))\n",
    "\n",
    "We'll be using the [Esearch](https://www.ncbi.nlm.nih.gov/books/NBK25499/#chapter4.ESearch) utility to get a list of publication ID numbers for articles containing a causal relationship of interest.\n",
    "\n",
    "We'll then use the [Efetch](https://www.ncbi.nlm.nih.gov/books/NBK25499/#chapter4.EFetch) utility to fetch articles identified by the previously identified IDs of interest. \n",
    "\n"
   ]
  },
  {
   "cell_type": "code",
   "execution_count": 4,
   "id": "composed-tutorial",
   "metadata": {},
   "outputs": [],
   "source": [
    "import requests\n",
    "from bs4 import BeautifulSoup\n",
    "import json\n",
    "import re\n",
    "import urllib.parse\n",
    "import pandas as pd\n",
    "import time"
   ]
  },
  {
   "cell_type": "code",
   "execution_count": 5,
   "id": "happy-journalist",
   "metadata": {},
   "outputs": [
    {
     "name": "stdout",
     "output_type": "stream",
     "text": [
      "https://eutils.ncbi.nlm.nih.gov/entrez/eutils/esearch.fcgi?db=pubmed&retmax=200&term=%28%28%28%28%28%28%28cause%5BTitle%2FAbstract%5D%29%20NOT%20%28all-cause%5BTitle%2FAbstract%5D%29%29%20%29%20%29%20%29%20OR%20%28resulting%20in%5BTitle%2FAbstract%5D%29%29%20OR%20%28due%20to%5BTitle%2FAbstract%5D%29%29%20AND%20%28respiratory%20failure%5BTitle%2FAbstract%5D%29\n"
     ]
    },
    {
     "data": {
      "text/plain": [
       "'34117075,34116345,34116002,34115044,34113763,34112941,34112275,34106648,34104895,34104863,34101983,34101597,34094777,34094607,34093735,34093730,34093569,34092904,34090304,34087432,34078721,34078682,34078681,34075388,34071924,34071255,34068847,34066226,34064600,34062958,34061274,34058704,34056135,34055113,34050768,34048158,34046484,34046161,34045812,34044459,34044293,34043674,34041194,34035018,34031351,34029936,34028327,34026547,34026390,34026386,34016056,34014058,34014017,34012970,34012519,34011775,34010072,34009036,34007787,34006594,34001839,34001586,33998884,33998306,33995679,33995419,33995053,33994405,33993599,33990007,33988053,33987115,33979116,33978174,33976894,33976619,33976011,33975901,33975843,33975405,33974881,33974311,33969909,33969082,33968219,33967443,33966588,33966260,33965289,33965265,33965151,33964038,33959241,33959020,33957150,33953510,33951650,33950987,33950951,33950887,33949088,33948780,33948421,33941257,33941249,33940030,33937729,33936710,33934148,33932971,33930089,33929275,33928469,33928009,33926332,33915568,33912841,33910348,33910279,33909041,33907146,33906153,33902707,33898126,33897598,33896522,33892212,33891568,33889531,33889467,33889036,33886854,33886844,33886563,33884244,33884208,33883108,33883107,33883014,33881955,33881526,33880677,33880315,33880264,33880221,33879564,33879177,33874973,33873221,33872783,33871343,33871045,33870281,33868954,33868915,33866545,33866273,33866270,33865323,33864580,33863867,33863612,33861545,33861465,33860730,33860295,33858977,33858886,33857801,33855803,33854342,33853355,33850832,33850623,33849882,33849480,33847658,33846189,33845916,33844763,33843254,33841898,33836911,33836812,33836012,33835765,33835055,33833892,33833198,33832850,33832840,33832039,33830956,33829971,33829025,33828892,33824182,33823862,33822952,33822042'"
      ]
     },
     "execution_count": 5,
     "metadata": {},
     "output_type": "execute_result"
    }
   ],
   "source": [
    "# To get the format for search query that can be passed into a URL, \n",
    "# perform an advanced search at pubmed, then copy what follows the &term= from that search's URL\n",
    "query = '(((((((cause[Title/Abstract]) NOT (all-cause[Title/Abstract])) ) ) ) OR (resulting in[Title/Abstract])) OR (due to[Title/Abstract])) AND (respiratory failure[Title/Abstract])'\n",
    "query = urllib.parse.quote(query, safe='') # Encode the query in URL format\n",
    "\n",
    "# Get a list of PMIDs\n",
    "# Pass the query into the ESearch utility to get a list of PMIDs\n",
    "ESearch_base = 'https://eutils.ncbi.nlm.nih.gov/entrez/eutils/esearch.fcgi?db=pubmed&retmax=200&term='\n",
    "url = ESearch_base + query\n",
    "\n",
    "print(url)\n",
    "response = requests.get(url)\n",
    "content = response.content\n",
    "soup = BeautifulSoup(content, 'html.parser')\n",
    "PMIDs_str = soup.idlist.get_text()\n",
    "PMIDs_str = PMIDs_str.replace('\\n',',')\n",
    "PMIDs_str = PMIDs_str[1:-1]\n",
    "\n",
    "# Check the PMIDs_str for proper format\n",
    "PMIDs_str"
   ]
  },
  {
   "cell_type": "code",
   "execution_count": 7,
   "id": "manufactured-syndicate",
   "metadata": {},
   "outputs": [
    {
     "name": "stdout",
     "output_type": "stream",
     "text": [
      "[' We hypothesize that pulmonary hypertension-related strain on the right ventricle due to lung disease, may have led to the observed delay in the recovery of RV function, despite the full recovery of LV function.\\n'] 34113763\n",
      "['Patients with obesity are at increased risk of severe COVID-19, requiring mechanical ventilation due to acute respiratory failure. '] 34112941\n",
      "[' In this article, we present a newborn who required extracorporeal membrane oxygenation (ECMO) support for acute respiratory failure in the early postoperative period due to exposure to severe acute respiratory syndrome coronavirus 2 (SARS-CoV-2) after aortic arch repair and ventricular septal defect closure. '] 34112275\n",
      "['To our knowledge, this is one of the first cases to be reported in the literature on the use of awake extracorporeal membrane oxygenation as a \"treatment\" for barotrauma due to severe acute respiratory distress syndrome in a coronavirus disease 2019 patient, without the need for invasive mechanical ventilation. '] 34104895\n",
      "['We present here the case of an 89-year-old patient receiving warfarin for atrial fibrillation and valvular heart disease, admitted to the intensive care unit for respiratory failure due to COVID-19. '] 34104863\n",
      "[' And severe hypoxia may occur in the absence of subjective breathlessness due to drastic respiratory failure. '] 34101597\n",
      "[' Patients with intellectual disabilities (ID) are at increased risk of FoBI, likely due to the known association between ID and increased rates of pica. ', ' Patients with ID who require surgery due to FoBI are at higher risk of complications and often require prolonged hospitalizations compared to their neurotypical peers. '] 34094777\n",
      "[' To prevent further worsening of pulmonary hypoplasia caused by thoracic compression due to bowel dilation and oligohydramnios, a male neonate was delivered by cesarean section at 32 weeks of gestation. ', ' To the best of our knowledge, this is the first case report of a fetus with imperforate anus developing pulmonary hypoplasia possibly due to urethral obstruction.\\n'] 34094607\n",
      "[' Use of oral N-acetylcysteine as a mucolytic has been long established within respiratory medicine in managing chronic airway disease, but is rarely utilised in critically ill or mechanically ventilated patients due to the lack of comparative studies in literature. '] 34093730\n",
      "[' The use of resveratrol in clinical practice is limited by the low bioavailability following oral administration, due to the pharmacokinetic and metabolic characteristics of the molecule. '] 34093569\n",
      "[\"For medical professionals caring for patients undergoing mechanical ventilation due to respiratory failure, the ability to quickly and safely obtain images of pulmonary function at the patient's bedside would be highly desirable. \"] 34092904\n",
      "[' Since 2009, it has been applied as a rescue treatment for patients with severe adult respiratory distress syndrome (ARDS) mainly due to viral causes. '] 34078721\n",
      "['The cytokines, LIGHT (TNFSF14) and Interleukin-18 (IL-18), are two important therapeutic targets due to their central roles in the function of activated T cells and inflammatory injury. '] 34078682\n",
      "[' Four patients died due to progressive respiratory failure. '] 34078681\n",
      "['(1) Background: There are limited data regarding the efficacy of convalescent plasma (CP) in critically ill patients admitted to the intensive care unit (ICU) due to coronavirus disease 2019 (COVID-19). '] 34071924\n",
      "[' Although the leading cause of mortality in patients with COVID-19 is hypoxic respiratory failure due to viral pneumonia and acute respiratory distress syndrome, accumulating evidence has shown that the risk of thromboembolism is substantially high in patients with severe COVID-19 and that a thromboembolic event is another major complication contributing to the high morbidity and mortality in patients with COVID-19. '] 34071255\n",
      "[' A 76-year-old female was admitted to the clinic due to a recurrent fever that had lasted over a year accompanied by progressive weakness, weight loss of about 10 kg, dehydration, and malnutrition. ', 'The patient had undergone resection of a fragment of the small intestine due to perforation and abscess 13 years previously (at which time no histopathological examinations were performed). ', ' Symptomatic treatment and empirical antibiotic therapy were conducted, but the patient died on the twenty-seventh day of hospitalization due to progressive respiratory failure. '] 34068847\n",
      "[' The patient died due to an uncontrollable sepsis 66\\xa0days after surgery. '] 34064600\n",
      "['We present the case of a 67-year-old male patient, who was admitted to the intensive care unit for hypoxemic respiratory failure due to severe COVID-19 pneumonitis, requiring mechanical ventilation. '] 34061274\n",
      "[' TNI softFlow 50, bellavista 1000, and HUMID-BH could lower the risk of insufficient flow support due to accidental compression or blocking of the cannulas. '] 34058704\n",
      "['We compared 7\\xa0days of intravenous posaconazole (POS) prophylaxis with no prophylaxis (standard-of-care only, SOC) in a randomised, open-label, proof-of-concept trial in patients admitted to an intensive care unit (ICU) with respiratory failure due to influenza (ClinicalTrials.g'] 34056135\n",
      "['5%) requiring HFNO due to severe pneumonia were analyzed. ', 'This study suggests that nearly half of patients treated with HFNO due to severe COVID-19 pneumonia will require mechanical ventilation. '] 34055113\n",
      "[' She was admitted to our ward for rehabilitation due to prior stroke sequalae. ', ' After weeks of aggressive treatment, she remained in a coma and on mechanical ventilation due to respiratory failure. ', 'DKA can lead to cerebral infarction due to several mechanisms. '] 34050768\n",
      "[' GRADE quality of evidence was downgraded by three levels to very low due to concerns about the risk of bias, inconsistency, and imprecision. ', ' GRADE quality of evidence was downgraded by two levels to low due to concerns about the risk of bias and imprecision. '] 34046484\n",
      "['5%) died due to respiratory failure. '] 34044459\n",
      "['Scrub typhus is often misdiagnosed or diagnosed late due to its wide clinical spectrum overlapping with clinical presentation of other commonly prevalent tropical diseases. '] 34044293\n",
      "['In particular older people are at risk of mortality due to corona virus disease 2019 (COVID-19). '] 34031351\n",
      "[' Conclusion In critically ill patients, male gender and obesity are significant risk factors for ICU admission due to COVID-19, and early prone position, mechanical ventilation, and low positive end-expiratory pressures (PEEP) values may be beneficial, especially in the L phenotype category patients. '] 34028327\n",
      "[' All were intubated for hypoxic respiratory failure due to the COVID-19 infection. ', ' Three of the five patients passed away due to complications related to COVID-19. '] 34026547\n",
      "['The surge of critically ill patients due to the coronavirus disease-2019 (COVID-19) overwhelmed critical care capacity in areas of northern Italy. '] 34026390\n",
      "['4%; two patients died on post-operative day (POD) 14 due to fatal stroke and POD 85 due to prosthesis infection. '] 34026386\n",
      "['PNP is a malignancy-associated autoimmune mucocutaneous syndrome due to autoantibodies against plakins, desmogleins, and other components of the epidermis and basement membrane of epithelial tissues. ', ' She had lung pathology due to recurrent pulmonary infections and ventilator injury. ', ' We hypothesize that the girl survived relatively long after the PNP diagnosis due to strong T-cell suppressive treatments for her small bowel transplantation.\\n'] 34016056\n",
      "['It is unknown if patients with cancer and acute respiratory failure due to COVID-19 have different clinical or cancer-related characteristics, decisions to forgo life-sustaining therapies (LST), and mortality compared to patients with cancer and acute respiratory failure due to other causes. ', ' These patients had better performance status, less progressive cancer, less metastatic tumors, and less organ dysfunctions upon intensive care unit (ICU) admission than patients with acute respiratory failure due to other causes.\\n'] 34014058\n",
      "['Intro: Extracorporeal membrane oxygenation for neonatal and pediatric respiratory failure continues to demonstrate improving outcomes, largely due to advances in technology along with refined management strategies despite mounting patient acuity and complexity. '] 34012519\n",
      "['The renin-angiotensin system (RAS) is fundamental to COVID-19 pathobiology, due to the interaction between the SARS-CoV-2 virus and the angiotensin-converting enzyme-2 (ACE2) co-receptor for cellular entry. '] 34011775\n",
      "['We conducted an observational, prospective pilot study, including consecutive subjects admitted to an intermediate care unit due to COVID-19 pneumonia. '] 34009036\n",
      "[' AIHA is the cause of PE due to the absence of common predisposing factors and other thrombophilia. '] 34006594\n",
      "[' We present the clinical case of a 75-year-old man, admitted to our hospital with respiratory failure due to Sars-CoV-2 infection and secondary septic shock due to a sacral decubitus. '] 34001586\n",
      "[' If left untreated, the disease can be debilitating and even lethal by the third decade of life due to the development of severe complications, such as blindness, neuromyopathy, and respiratory failure. '] 33995419\n",
      "[' Hydroxychloroquine was stopped due to suspicion of haemolysis due to G6PD deficiency but the haemolysis persisted. '] 33990007\n",
      "['Acute radiation syndrome (ARS) due to whole body exposure (WBE) presents various clinical pictures, occasionally leading to fatal consequences. ', ' Four fatal cases of severe ARS due to WBE in Soreq 1990 and Nesvizh 1992, and two cases in JCO Tokaimura 1999 were reviewed. ', ' To address these issues, a concept of severe ARS due to WBE has been proposed with respect to radiation-induced multi-organ dysfunction syndrome (RI-MODS) and failure (RI-MOF). '] 33987115\n",
      "[' It was rare, but the cases have recently increased worldwide due to the development of artificial stone industry. '] 33979116\n",
      "[' Both patients were hemodynamically stable, on prophylactic anticoagulants, multiple antibiotics, and antifungal agents due to respiratory infections at the time of lower GI bleeding. ', ' We hypothesize that rather than a direct viral cytopathic effect, ischemia and hypoperfusion may be unleashed due to the cytokine storm orchestrated by the virus that leads to abnormal coagulation profile. '] 33978174\n",
      "[' The patient died due to low output syndrome, while the other seven patients were rescued. '] 33976894\n",
      "[' We present the case of a pregnant patient who developed respiratory failure due to COVID-19 and rapidly decompensated requiring intubation. '] 33975405\n",
      "[' However, due to the lack of availability of equipment in the context of the pandemic, a pediatric gas exchange membrane adapted to CVVHD allowed to maintain the removal of CO2 until completing 27\\xa0days, being finally disconnected from the system without complications and with a satisfactory evolution.\\n'] 33974881\n",
      "[' Objective \\u2003To review pediatric patients who underwent bronchoscopy due to suspicion of foreign body aspiration at a tertiary center in Malaysia. ', ' Eight patients (80%) received delayed treatment due to delayed diagnosis. '] 33969909\n",
      "[' The limited reporting of IB in many countries is probably due to diagnostic difficulties and nonspecific presentation. '] 33968219\n",
      "[' The aim of the study was to characterize Polish patients hospitalized due to COVID-19 and to evaluate potential prognostic factors of severe course of the disease.\\n'] 33967443\n",
      "[' The autopsy of one patient revealed a compressed cervical cord and marked dura mater thickening due to GAG accumulation. '] 33966588\n",
      "[' In 2016, a 31-year-old woman who was experiencing hypoxemic respiratory failure and recurrent pulmonary infections due to cystic bronchiectasis received a double-lung-transplantation. '] 33965289\n",
      "[' Costs were assigned using the 2016 diagnosis-related group (DRG) system: DRG 579 (€22\\u2009383) overnight stay due to major complication (ie, sepsis, pneumonia, parenteral nutrition, or respiratory failure), and DRG 875 (€5154) if no major complication. '] 33965265\n",
      "[' The two adult patients also received antivenom due to the misidentification without clinical and laboratory evidence of envenoming.\\n'] 33959241\n",
      "[' All mortalities (5/40) occurred during the postoperative period after 3 days due to respiratory failure while being ventilated.\\n'] 33959020\n",
      "[' In comparison with term newborns, preterm infants have a higher risk for developing hypoxemia due to suprasystemic levels of PH in preterm infants shortly after birth or persistent pulmonary hypertension of the newborn (PPHN). '] 33957150\n",
      "['Myasthenia gravis (MG) patients are at increased risk of COVID-19 infection and its complications due to chronic immunosuppression. ', \"Use of intravenous remdesivir and dexamethasone and patient's myasthenic exacerbation (due to COVID-19 and its complications) was successfully treated with plasmapheresis.\\n\"] 33951650\n",
      "['Neonates with respiratory failure are ideally supported with veno-venous rather than veno-arterial extracorporeal membrane oxygenation due to the reduced rate of neurologic complications. '] 33950987\n",
      "[' The true prevalence of this syndrome is unknown due to underrecognition, difficulty in timely acquisition of neuroimaging, and high mortality in this subset of patients escaping detection. ', ' The pathophysiology of this syndrome is unclear but hypothesized to occur due to cytokine storm, blood-brain-barrier dysfunction, and direct viral-mediated endotheliopathy. '] 33949088\n",
      "['NEWS2 may under-perform in Covid-19 due to intrinsic limitations of the design and the unique pathophysiology of the disease. '] 33941249\n",
      "['Hypoxic hepatitis may occur due to hemodynamic mechanisms of hypoxia secondary to anemia without any context of reduced blood flow, respiratory failure, or shock state. '] 33940030\n",
      "[' The reduced body mass index in these patients is thought to be due to nutritional abnormality and raised circulating inflammatory markers.\\xa0'] 33937729\n",
      "[' Patients who were received invasive mechanic ventilation (iMV) support due to severe HRF related to COPD or ARDS were included into analyses. ', 'ECCO2R therapy significantly improved survival, iMV duration and LOS in patients with severe HRF due to COPD or ARDS, and successfully provided LPV approaches. '] 33936710\n",
      "[' We retrospectively analyzed 59 intubated patients for acute respiratory failure due to lung diseases between April 2014 and June 2018. '] 33934148\n",
      "['The use of clinical scoring to assess for severity of respiratory distress and respiratory failure is challenging due to subjectivity and interrater variability. '] 33930089\n",
      "['Controversy exists whether the cause of death due to severe acute respiratory syndrome coronavirus 2 is directly related to the infection or to underlying conditions. ', ' An indeterminate cause of death in 10% was due to insufficient information or an atypical presentation. '] 33926332\n",
      "[' Death was attributed to acute respiratory failure due to hyaline membrane disease. '] 33915568\n",
      "[' However, due to the delayed healing of the fistula, the chest cavity continues to communicate with the outside world, and the patient is prone to complicated with severe thoracic infection and respiratory failure, so that the physical condition can hardly tolerate the second surgical procedure. ', \" On the 7th day after operation, the patient developed a right intermediate trunk bronchial stump fistula, but due to ARDS, the patient's physical condition could not tolerate the second operation. \"] 33912841\n",
      "[' These findings indicate the therapeutic potential of fast skeletal muscle troponin activators to improve muscle function in nemaline myopathy due to the ACTA1H40Y mutation, and future studies should assess their merit for other forms of nemaline myopathy and for other congenital myopathies.\\n'] 33910348\n",
      "['Though progress has been made in recent years in diagnosis and treatment for autoimmune encephalitis, it is challenging to diagnose due to the similarity in clinical findings with other autoimmune or infectious encephalitis. '] 33910279\n",
      "['Pulmonary alveolar proteinosis (PAP) is a rare, diffuse pulmonary disease due to abnormal surfactant homeostasis. '] 33909041\n",
      "['\\xa0 We present a case of a 55-year-old female patient with no significant past medical history who was admitted due to COVID-19 induced acute hypoxemic respiratory failure. '] 33906153\n",
      "[' Additionally, due to the severity of underlining disease, two patients were transferred to the ICU where they passed away after >48h. '] 33897598\n",
      "[' Nivolumab monotherapy was prescribed as second-line therapy and later discontinued due to financial reasons. ', ' Pembrolizumab monotherapy was initiated as sixth-line therapy, and it was discontinued after 4 cycles due to disease progression. '] 33892212\n",
      "[' Critical illness due to COVID-19 can result in SSC-CIP. '] 33891568\n",
      "[' Except for children who were 0-28 days old and>61 months old, the other age groups showed a re-hospitalization situation due to re-infection with RSV. '] 33889531\n",
      "['To analyze whether changes in medical care due to the application of COVID-19 protocols affected clinical outcomes in patients without COVID-19 during the pandemic.\\n'] 33889467\n",
      "['To report the experience of a quaternary care center on the implementation of a care program for patients with severe hypoxemic respiratory failure due to SARS-CoV-2 requiring an extracorporeal oxygenation membrane.\\n'] 33889036\n",
      "[' The liver injury typically results from different underlying medical conditions such as cardiac failure, respiratory failure and septic shock in which the liver becomes damaged due to deprivation of either blood or oxygen. '] 33886854\n",
      "[' Typical imaging findings demonstrate a \"sandstorm\" appearance due to bilateral, interstitial sand-like micronodularities with basal predominance.\\n'] 33886563\n",
      "[' The family eventually opted for palliative measures, and the patient expired on day 14 of admission due to acute respiratory failure from palliative extubating.\\n'] 33884208\n",
      "[' Ancillary investigations in addition with serum CPK, including electromyogram, muscle biopsy, and muscle magnetic resonance imaging (MRI) suggested acute myopathy possibly due to skeletal myositis.\\n', ' Additionally, serum CPK could be a potential marker to predict respiratory failure in SARS-CoV2 pneumonia as skeletal myopathy affecting chest muscles may contribute ventilatory failure on top of oxygenation failure due to SARS-CoV2 pneumonia.\\n'] 33883108\n",
      "[' In patients with olfactory loss due to COVID-19, PNS CT can help in diagnosis. '] 33883107\n",
      "[' A 69-year-old male was admitted to the ICU for acute hypoxemic respiratory failure due to COVID-19 pneumonia. '] 33883014\n",
      "[' The patient suffered from fever, cough and progressive dyspnea for 10 days and he was admitted to the intensive care unit due to respiratory failure and cytokine release syndrome (CRS). '] 33881526\n",
      "['\\xa0Positive PCR testing beyond nine days of illness is likely due to persistent dead virus particles and thus repeat testing is not suggested. '] 33880677\n",
      "[' Two patients died of respiratory failure due to COVID-19.\\n'] 33880221\n",
      "[' As a center specializing in weaning patients after prolonged mechanical ventilation, we wanted to compare our results with weaning patients who had prolonged mechanical ventilation for other reasons than those of patients who had prolonged mechanical ventilation due to SARS-CoV-2 infection.\\n', '\\u2002Our analysis included data on 28 patients; 11 were treated with prolonged mechanical ventilation due to SARS-CoV-2 pneumonia, 17 had no SARS-CoV-2 infection. ', '\\u2002Even though we were only able to analyze a small number of patient histories due to the novelty of the disease, we were able to show that patients with prolonged mechanical ventilation after SARS-CoV-2 infection can be equally successfully weaned compared to patients with prolonged mechanical ventilation due to other diseases. '] 33879177\n",
      "[' The rapid progression of mild flu-like symptoms to respiratory failure in all patients was controlled with the use of continuous positive airway pressure making this strategy a reasonable alternative to respiratory failure due to SARS-CoV-2 as it may avert intubation and mechanical ventilation.\\n'] 33872783\n",
      "[' The autopsy showed widespread metastasis in all lobes of the bilateral lungs, cardiac tamponade due to carcinomatous pericarditis, carcinomatous lymphangiopathy, and multiple lung metastases, which were thought to be comprehensively the cause of death. '] 33870281\n",
      "[' Twenty-five sedated, paralyzed, intubated, and mechanically ventilated patients with volume control mode (CMV) in the ICU due to respiratory failure were included in the study. '] 33866545\n",
      "[' Septic shock, ICU admission, the need for mechanical ventilation and change of antibiotics due to clinical deterioration, all related to mortality, were included as unfavorable clinical outcomes. '] 33866273\n",
      "[' There were 51 patients who received extracorporeal membrane oxygenation due to coronavirus disease 2019 and 80 patients with influenza. '] 33863867\n",
      "[' ARDS is mediated, at least in part, by a dysregulated inflammatory response due to excessive levels of circulating cytokines, a condition known as the \"cytokine-storm syndrome.\"'] 33861545\n",
      "[' Most (95%) increases were due to myocardial injury, with 5% (n\\u2009=\\u20098) classified as type 1 or 2 myocardial infarction. ', ' While most hs-cTnT increases are modest and due to myocardial injury, they have important prognostic implications. '] 33861465\n",
      "[' At 28 hours of life, he was started on inhaled nitric oxide (iNO), followed by milrinone due to hypoxaemic respiratory failure and the POCE revealed severe pulmonary artery hypertension (PAH). '] 33860295\n",
      "[' In two cases NIV was abandoned due to mask intolerance and in one case there was a decrease in Glasgow Coma Scale by 2. '] 33858886\n",
      "[' Despite treatment with ciclesonide and favipiravir, supplemental oxygen was administered due to the worsening of dyspnea with tachypnea. '] 33857801\n",
      "['3%) due to rupture-EVAR.\\n', '3% due to perioperative MI. ', 'Only one late stent-graft related mortality was registered due to rupture-EVAR.\\n'] 33853355\n",
      "['The trial is conducted to test the hypothesis that HFOT, administered immediately after extubation, is not inferior to the NIV in reducing the rate of treatment failure in patients with COPD who were previously intubated due to hypercapniac respiratory failure.\\n'] 33849882\n",
      "['We describe a case of a 48-year-old woman who presented with acute respiratory failure due to diffuse alveolar haemorrhage and acute renal failure due to pauci-immune glomerulonephritis consistent with a new diagnosis of microscopic polyangiitis (MPA). ', ' This case highlights a timely dilemma of holding immunosuppression in a RA patient with low disease activity on combination therapy with SARS-CoV-2 infection, and the potential risk of developing an additional autoimmune disease, such as vasculitis, given their existing autoimmunity due to RA.\\n'] 33849480\n",
      "['2%) were transferred to an intensive care unit (ICU) due to respiratory failure. '] 33846189\n",
      "[' Most surviving patients require invasive mechanical ventilation, feeding tubes, and wheelchairs for mobility, due to profoundly impaired motor function. '] 33845916\n",
      "['This case report reviews the hospital course of a 15-month-old girl admitted to the PICU for acute respiratory failure due to enterovirus infection; who subsequently had multiple extubation failures secondary to acute transverse myelitis. '] 33836012\n",
      "[' We hypothesized that one of the mechanisms for tracheoesophageal fistula, along with other local and general risk factors, is the local infection due to the location of the virus itself in the tracheobronchial tree. '] 33835765\n",
      "[' Hypoxemia could therefore be explained by a reduction of the normal V/Q ratio, due to blood overflow around well ventilated alveoli. '] 33833892\n",
      "['To evaluate the clinical value of emergency endovascular embolization in the interventional treatment for oral hemorrhage caused by carcinoma, 32 patients with oral hemorrhage caused by carcinoma, who received emergency endovascular embolization due to unsatisfactory hemostatic effect of conventional conservative treatment in the First Affiliated Hospital of Zhengzhou University from January 2014 to December 2019, were included in this study and their clinical data, laboratory data and imaging information were retrospectively analyzed. '] 33832850\n",
      "['74)] due to maternal respiratory failure.\\n'] 33832840\n",
      "[' Ever since the start of pandemic the physicians were constrained to rely on the management strategies due to lack of clear understanding of the disease pathogenesis caused by SARS-CoV-2 infection. ', ' It is quite evident that virus infection leads to acute respiratory distress syndrome (ARDS) and most of the deaths occur due to respiratory failure. '] 33832039\n",
      "[' Deaths due to COVID-19 were defined as those in which COVID-19 was the underlying cause of death. '] 33830956\n",
      "[' In this case report, we discuss a 47-year-old male patient diagnosed with MINOCA who was followed up with respiratory failure due to COVID-19 viral pneumonia in intensive care unit. ', ' MINOCA may be triggered by hyperinflammation or various processes due to COVID-19. '] 33829971\n",
      "[' In this report, we describe 4 previously healthy, term and late-preterm infants admitted to the PICU with respiratory failure due to RSV bronchiolitis who developed necrotizing enterocolitis shortly after admission. '] 33829025\n",
      "[' The majority of patients improved their oxygenation during prone position, most likely due to a better ventilation perfusion matching.\\n'] 33828892\n",
      "[' Our goal was to describe our findings in patients with severe ARDS due to severe coronavirus disease 2019 (sCOVID-19) treated with venovenous extracorporeal membrane oxygenation (vv-ECMO).\\n', 'We retrospectively examined all patients treated with vv-ECMO for severe ARDS due to acute respiratory syndrome coronavirus 2.\\n'] 33824182\n"
     ]
    },
    {
     "ename": "IndexError",
     "evalue": "list index out of range",
     "output_type": "error",
     "traceback": [
      "\u001b[0;31m---------------------------------------------------------------------------\u001b[0m",
      "\u001b[0;31mIndexError\u001b[0m                                Traceback (most recent call last)",
      "\u001b[0;32m<ipython-input-7-ceaa934c95fe>\u001b[0m in \u001b[0;36m<module>\u001b[0;34m\u001b[0m\n\u001b[1;32m     13\u001b[0m \u001b[0;34m\u001b[0m\u001b[0m\n\u001b[1;32m     14\u001b[0m \u001b[0;32mfor\u001b[0m \u001b[0mpmid\u001b[0m \u001b[0;32min\u001b[0m \u001b[0mPMID_list\u001b[0m\u001b[0;34m:\u001b[0m\u001b[0;34m\u001b[0m\u001b[0;34m\u001b[0m\u001b[0m\n\u001b[0;32m---> 15\u001b[0;31m     \u001b[0mabstract\u001b[0m \u001b[0;34m=\u001b[0m \u001b[0msoup\u001b[0m\u001b[0;34m.\u001b[0m\u001b[0mfind_all\u001b[0m\u001b[0;34m(\u001b[0m\u001b[0;34m'abstract'\u001b[0m\u001b[0;34m)\u001b[0m\u001b[0;34m[\u001b[0m\u001b[0mcount\u001b[0m\u001b[0;34m]\u001b[0m\u001b[0;34m.\u001b[0m\u001b[0mget_text\u001b[0m\u001b[0;34m(\u001b[0m\u001b[0;34m)\u001b[0m\u001b[0;34m\u001b[0m\u001b[0;34m\u001b[0m\u001b[0m\n\u001b[0m\u001b[1;32m     16\u001b[0m     \u001b[0msentence_list\u001b[0m \u001b[0;34m=\u001b[0m \u001b[0mre\u001b[0m\u001b[0;34m.\u001b[0m\u001b[0mfindall\u001b[0m\u001b[0;34m(\u001b[0m\u001b[0mregex\u001b[0m\u001b[0;34m,\u001b[0m \u001b[0mabstract\u001b[0m\u001b[0;34m)\u001b[0m\u001b[0;34m\u001b[0m\u001b[0;34m\u001b[0m\u001b[0m\n\u001b[1;32m     17\u001b[0m     \u001b[0;32mif\u001b[0m \u001b[0mlen\u001b[0m\u001b[0;34m(\u001b[0m\u001b[0msentence_list\u001b[0m\u001b[0;34m)\u001b[0m \u001b[0;34m>\u001b[0m \u001b[0;36m0\u001b[0m\u001b[0;34m:\u001b[0m\u001b[0;34m\u001b[0m\u001b[0;34m\u001b[0m\u001b[0m\n",
      "\u001b[0;31mIndexError\u001b[0m: list index out of range"
     ]
    }
   ],
   "source": [
    "# Fetch the abstract for each PMID on the list\n",
    "url = 'https://eutils.ncbi.nlm.nih.gov/entrez/eutils/efetch.fcgi?db=pubmed&id={PMIDs_str}&retmode=xml&rettype=abstract'\n",
    "\n",
    "url = url.format(PMIDs_str=PMIDs_str)\n",
    "response = requests.get(url)\n",
    "content = response.content\n",
    "soup = BeautifulSoup(content, 'html.parser')\n",
    "count = 0\n",
    "output_dict = {}\n",
    "PMID_list = PMIDs_str.split(',')\n",
    "\n",
    "regex = r\"([^.\\n]*?[^-]due to[^.]*\\.[^0-9])\"\n",
    "\n",
    "for pmid in PMID_list:\n",
    "    abstract = soup.find_all('abstract')[count].get_text()\n",
    "    sentence_list = re.findall(regex, abstract)\n",
    "    if len(sentence_list) > 0:\n",
    "        output_dict[pmid] = sentence_list\n",
    "        print(output_dict[pmid], pmid)\n",
    "    count += 1\n",
    "\n",
    "# Deal with negatives (e.g. \"this does not cause that\")"
   ]
  },
  {
   "cell_type": "markdown",
   "id": "sustained-ottawa",
   "metadata": {},
   "source": [
    "### NLP toolkits\n",
    "\n",
    "Special thanks to Kevin Obuya for compiling this list:  \n",
    "https://docs.google.com/spreadsheets/d/13JADjvvbytmJCZ4l9IxmG8MblFYZYWME9vCldM_EKlA/edit?usp=sharing"
   ]
  }
 ],
 "metadata": {
  "kernelspec": {
   "display_name": "Python 3",
   "language": "python",
   "name": "python3"
  },
  "language_info": {
   "codemirror_mode": {
    "name": "ipython",
    "version": 3
   },
   "file_extension": ".py",
   "mimetype": "text/x-python",
   "name": "python",
   "nbconvert_exporter": "python",
   "pygments_lexer": "ipython3",
   "version": "3.9.1"
  }
 },
 "nbformat": 4,
 "nbformat_minor": 5
}
