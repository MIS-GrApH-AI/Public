{
 "cells": [
  {
   "cell_type": "markdown",
   "metadata": {},
   "source": [
    "# Python and Neo4J Playground"
   ]
  },
  {
   "cell_type": "markdown",
   "metadata": {},
   "source": [
    "# Notes & Resources  \n",
    "## py2neo  \n",
    "Developed by the community, useful for data science  \n",
    "https://nicolewhite.github.io/neo4j-jupyter/hello-world.html  \n",
    "https://cr8ive.cf/2018/05/31/python-10-neo4j-graph-database-py2neo/  \n",
    "\n",
    "## Neo4j driver\n",
    "Officially supported by Neo4j, good if building apps to run in production  \n",
    "https://neo4j.com/videos/get-started-w-pythonflask-and-neo4j-guest-roni-das-live-stream-by-michael-hunger/  \n",
    "Configure drivers for security, etc.  \n",
    "https://neo4j.com/developer/python/  "
   ]
  },
  {
   "cell_type": "markdown",
   "metadata": {},
   "source": [
    "# Sample Code"
   ]
  },
  {
   "cell_type": "markdown",
   "metadata": {},
   "source": [
    "## py2neo"
   ]
  },
  {
   "cell_type": "code",
   "execution_count": 6,
   "metadata": {},
   "outputs": [],
   "source": [
    "from py2neo import Graph\n",
    "from neographviz import Graph, plot"
   ]
  },
  {
   "cell_type": "code",
   "execution_count": 4,
   "metadata": {},
   "outputs": [
    {
     "name": "stdin",
     "output_type": "stream",
     "text": [
      "\n",
      "Please enter the Neo4j database password to continue \n",
      " ·······\n"
     ]
    }
   ],
   "source": [
    "import getpass\n",
    "password = getpass.getpass(\"\\nPlease enter the Neo4j database password to continue \\n\")"
   ]
  },
  {
   "cell_type": "code",
   "execution_count": 7,
   "metadata": {},
   "outputs": [],
   "source": [
    "graph = Graph(password=password)"
   ]
  },
  {
   "cell_type": "code",
   "execution_count": 8,
   "metadata": {},
   "outputs": [
    {
     "data": {
      "text/html": [
       "\n",
       "        <iframe\n",
       "            width=\"100%\"\n",
       "            height=\"400\"\n",
       "            src=\"figure/graph-b161d64e-45fd-4401-ab32-748828e2d308.html\"\n",
       "            frameborder=\"0\"\n",
       "            allowfullscreen\n",
       "        ></iframe>\n",
       "        "
      ],
      "text/plain": [
       "<IPython.lib.display.IFrame at 0x7f05ef628430>"
      ]
     },
     "execution_count": 8,
     "metadata": {},
     "output_type": "execute_result"
    }
   ],
   "source": [
    "plot(graph)"
   ]
  },
  {
   "cell_type": "code",
   "execution_count": 4,
   "metadata": {},
   "outputs": [],
   "source": [
    "from IPython.display import IFrame\n",
    "import json\n",
    "import uuid\n",
    "\n",
    "def vis_network(nodes, edges, physics=False):\n",
    "    html = \"\"\"\n",
    "    <html>\n",
    "    <head>\n",
    "      <script type=\"text/javascript\" src=\"../lib/vis/dist/vis.js\"></script>\n",
    "      <link href=\"../lib/vis/dist/vis.css\" rel=\"stylesheet\" type=\"text/css\">\n",
    "    </head>\n",
    "    <body>\n",
    "    <div id=\"{id}\"></div>\n",
    "    <script type=\"text/javascript\">\n",
    "      var nodes = {nodes};\n",
    "      var edges = {edges};\n",
    "      var container = document.getElementById(\"{id}\");\n",
    "      var data = {{\n",
    "        nodes: nodes,\n",
    "        edges: edges\n",
    "      }};\n",
    "      var options = {{\n",
    "          nodes: {{\n",
    "              shape: 'dot',\n",
    "              size: 25,\n",
    "              font: {{\n",
    "                  size: 14\n",
    "              }}\n",
    "          }},\n",
    "          edges: {{\n",
    "              font: {{\n",
    "                  size: 14,\n",
    "                  align: 'middle'\n",
    "              }},\n",
    "              color: 'gray',\n",
    "              arrows: {{\n",
    "                  to: {{enabled: true, scaleFactor: 0.5}}\n",
    "              }},\n",
    "              smooth: {{enabled: false}}\n",
    "          }},\n",
    "          physics: {{\n",
    "              enabled: {physics}\n",
    "          }}\n",
    "      }};\n",
    "      var network = new vis.Network(container, data, options);\n",
    "    </script>\n",
    "    </body>\n",
    "    </html>\n",
    "    \"\"\"\n",
    "\n",
    "    unique_id = str(uuid.uuid4())\n",
    "    html = html.format(id=unique_id, nodes=json.dumps(nodes), edges=json.dumps(edges), physics=json.dumps(physics))\n",
    "\n",
    "    filename = \"figure/graph-{}.html\".format(unique_id)\n",
    "\n",
    "    file = open(filename, \"w\")\n",
    "    file.write(html)\n",
    "    file.close()\n",
    "\n",
    "    return IFrame(filename, width=\"100%\", height=\"400\")\n",
    "\n",
    "def draw(graph, options, physics=False, limit=100):\n",
    "    # The options argument should be a dictionary of node labels and property keys; it determines which property\n",
    "    # is displayed for the node label. For example, in the movie graph, options = {\"Movie\": \"title\", \"Person\": \"name\"}.\n",
    "    # Omitting a node label from the options dict will leave the node unlabeled in the visualization.\n",
    "    # Setting physics = True makes the nodes bounce around when you touch them!\n",
    "    query = \"\"\"\n",
    "    MATCH (n)\n",
    "    WITH n, rand() AS random\n",
    "    ORDER BY random\n",
    "    LIMIT $limit\n",
    "    OPTIONAL MATCH (n)-[r]->(m)\n",
    "    RETURN n AS source_node,\n",
    "           id(n) AS source_id,\n",
    "           r,\n",
    "           m AS target_node,\n",
    "           id(m) AS target_id\n",
    "    \"\"\"\n",
    "\n",
    "    data = graph.run(query, limit=limit)\n",
    "\n",
    "    nodes = []\n",
    "    edges = []\n",
    "\n",
    "    def get_vis_info(node, id):\n",
    "        node_label = list(node.labels())[0]\n",
    "        prop_key = options.get(node_label)\n",
    "        vis_label = node.properties.get(prop_key, \"\")\n",
    "\n",
    "        return {\"id\": id, \"label\": vis_label, \"group\": node_label, \"title\": repr(node.properties)}\n",
    "\n",
    "    for row in data:\n",
    "        source_node = row[0]\n",
    "        source_id = row[1]\n",
    "        rel = row[2]\n",
    "        target_node = row[3]\n",
    "        target_id = row[4]\n",
    "\n",
    "        source_info = get_vis_info(source_node, source_id)\n",
    "\n",
    "        if source_info not in nodes:\n",
    "            nodes.append(source_info)\n",
    "\n",
    "        if rel is not None:\n",
    "            target_info = get_vis_info(target_node, target_id)\n",
    "\n",
    "            if target_info not in nodes:\n",
    "                nodes.append(target_info)\n",
    "\n",
    "            edges.append({\"from\": source_info[\"id\"], \"to\": target_info[\"id\"], \"label\": rel.type()})\n",
    "\n",
    "    return vis_network(nodes, edges, physics=physics)"
   ]
  },
  {
   "cell_type": "markdown",
   "metadata": {},
   "source": [
    "## Neo4j drivers"
   ]
  },
  {
   "cell_type": "code",
   "execution_count": null,
   "metadata": {},
   "outputs": [],
   "source": [
    "from neo4j import GraphDatabase\n",
    "driver=GraphDatabase.driver(uri=\"bolt://76.251.77.235:7687\", auth=('neo4j',password))\n",
    "session=driver.session()"
   ]
  },
  {
   "cell_type": "code",
   "execution_count": 1,
   "metadata": {},
   "outputs": [
    {
     "ename": "NameError",
     "evalue": "name 'session' is not defined",
     "output_type": "error",
     "traceback": [
      "\u001b[0;31m---------------------------------------------------------------------------\u001b[0m",
      "\u001b[0;31mNameError\u001b[0m                                 Traceback (most recent call last)",
      "\u001b[0;32m<ipython-input-1-cb1251b41ac1>\u001b[0m in \u001b[0;36m<module>\u001b[0;34m\u001b[0m\n\u001b[1;32m      2\u001b[0m \u001b[0mMATCH\u001b[0m \u001b[0;34m(\u001b[0m\u001b[0ma\u001b[0m\u001b[0;34m:\u001b[0m\u001b[0mAdmissions\u001b[0m\u001b[0;34m)\u001b[0m\u001b[0;34m-\u001b[0m\u001b[0;34m[\u001b[0m\u001b[0;34m]\u001b[0m\u001b[0;34m-\u001b[0m\u001b[0;34m(\u001b[0m\u001b[0md\u001b[0m\u001b[0;34m:\u001b[0m\u001b[0mDay\u001b[0m\u001b[0;34m)\u001b[0m\u001b[0;34m\u001b[0m\u001b[0;34m\u001b[0m\u001b[0m\n\u001b[1;32m      3\u001b[0m \"\"\"\n\u001b[0;32m----> 4\u001b[0;31m \u001b[0mresults\u001b[0m\u001b[0;34m=\u001b[0m\u001b[0msession\u001b[0m\u001b[0;34m.\u001b[0m\u001b[0mrun\u001b[0m\u001b[0;34m(\u001b[0m\u001b[0mquery\u001b[0m\u001b[0;34m)\u001b[0m\u001b[0;34m\u001b[0m\u001b[0;34m\u001b[0m\u001b[0m\n\u001b[0m",
      "\u001b[0;31mNameError\u001b[0m: name 'session' is not defined"
     ]
    }
   ],
   "source": [
    "query=\"\"\"\n",
    "MATCH (a:Admissions)-[]-(d:Day)\n",
    "RETURN a, d\n",
    "LIMIT 5\n",
    "\"\"\"\n",
    "results=session.run(query)"
   ]
  },
  {
   "cell_type": "code",
   "execution_count": 5,
   "metadata": {},
   "outputs": [],
   "source": [
    "from py2neo import Graph\n",
    "\n",
    "graph = Graph(auth=('neo4j','M@rc3!M'))"
   ]
  },
  {
   "cell_type": "code",
   "execution_count": 6,
   "metadata": {},
   "outputs": [],
   "source": [
    "from py2neo import Node"
   ]
  },
  {
   "cell_type": "code",
   "execution_count": 7,
   "metadata": {},
   "outputs": [
    {
     "ename": "TypeError",
     "evalue": "'LabelSetView' object is not callable",
     "output_type": "error",
     "traceback": [
      "\u001b[0;31m---------------------------------------------------------------------------\u001b[0m",
      "\u001b[0;31mTypeError\u001b[0m                                 Traceback (most recent call last)",
      "\u001b[0;32m<ipython-input-7-3f5500adffba>\u001b[0m in \u001b[0;36m<module>\u001b[0;34m\u001b[0m\n\u001b[1;32m      1\u001b[0m \u001b[0moptions\u001b[0m \u001b[0;34m=\u001b[0m \u001b[0;34m{\u001b[0m\u001b[0;34m\"Patients\"\u001b[0m\u001b[0;34m:\u001b[0m \u001b[0;34m\"SUBJECT_ID\"\u001b[0m\u001b[0;34m}\u001b[0m\u001b[0;34m\u001b[0m\u001b[0;34m\u001b[0m\u001b[0m\n\u001b[0;32m----> 2\u001b[0;31m \u001b[0mdraw\u001b[0m\u001b[0;34m(\u001b[0m\u001b[0mgraph\u001b[0m\u001b[0;34m,\u001b[0m \u001b[0moptions\u001b[0m\u001b[0;34m)\u001b[0m\u001b[0;34m\u001b[0m\u001b[0;34m\u001b[0m\u001b[0m\n\u001b[0m",
      "\u001b[0;32m<ipython-input-4-20b8e829ab12>\u001b[0m in \u001b[0;36mdraw\u001b[0;34m(graph, options, physics, limit)\u001b[0m\n\u001b[1;32m     97\u001b[0m         \u001b[0mtarget_id\u001b[0m \u001b[0;34m=\u001b[0m \u001b[0mrow\u001b[0m\u001b[0;34m[\u001b[0m\u001b[0;36m4\u001b[0m\u001b[0;34m]\u001b[0m\u001b[0;34m\u001b[0m\u001b[0;34m\u001b[0m\u001b[0m\n\u001b[1;32m     98\u001b[0m \u001b[0;34m\u001b[0m\u001b[0m\n\u001b[0;32m---> 99\u001b[0;31m         \u001b[0msource_info\u001b[0m \u001b[0;34m=\u001b[0m \u001b[0mget_vis_info\u001b[0m\u001b[0;34m(\u001b[0m\u001b[0msource_node\u001b[0m\u001b[0;34m,\u001b[0m \u001b[0msource_id\u001b[0m\u001b[0;34m)\u001b[0m\u001b[0;34m\u001b[0m\u001b[0;34m\u001b[0m\u001b[0m\n\u001b[0m\u001b[1;32m    100\u001b[0m \u001b[0;34m\u001b[0m\u001b[0m\n\u001b[1;32m    101\u001b[0m         \u001b[0;32mif\u001b[0m \u001b[0msource_info\u001b[0m \u001b[0;32mnot\u001b[0m \u001b[0;32min\u001b[0m \u001b[0mnodes\u001b[0m\u001b[0;34m:\u001b[0m\u001b[0;34m\u001b[0m\u001b[0;34m\u001b[0m\u001b[0m\n",
      "\u001b[0;32m<ipython-input-4-20b8e829ab12>\u001b[0m in \u001b[0;36mget_vis_info\u001b[0;34m(node, id)\u001b[0m\n\u001b[1;32m     84\u001b[0m \u001b[0;34m\u001b[0m\u001b[0m\n\u001b[1;32m     85\u001b[0m     \u001b[0;32mdef\u001b[0m \u001b[0mget_vis_info\u001b[0m\u001b[0;34m(\u001b[0m\u001b[0mnode\u001b[0m\u001b[0;34m,\u001b[0m \u001b[0mid\u001b[0m\u001b[0;34m)\u001b[0m\u001b[0;34m:\u001b[0m\u001b[0;34m\u001b[0m\u001b[0;34m\u001b[0m\u001b[0m\n\u001b[0;32m---> 86\u001b[0;31m         \u001b[0mnode_label\u001b[0m \u001b[0;34m=\u001b[0m \u001b[0mlist\u001b[0m\u001b[0;34m(\u001b[0m\u001b[0mnode\u001b[0m\u001b[0;34m.\u001b[0m\u001b[0mlabels\u001b[0m\u001b[0;34m(\u001b[0m\u001b[0;34m)\u001b[0m\u001b[0;34m)\u001b[0m\u001b[0;34m[\u001b[0m\u001b[0;36m0\u001b[0m\u001b[0;34m]\u001b[0m\u001b[0;34m\u001b[0m\u001b[0;34m\u001b[0m\u001b[0m\n\u001b[0m\u001b[1;32m     87\u001b[0m         \u001b[0mprop_key\u001b[0m \u001b[0;34m=\u001b[0m \u001b[0moptions\u001b[0m\u001b[0;34m.\u001b[0m\u001b[0mget\u001b[0m\u001b[0;34m(\u001b[0m\u001b[0mnode_label\u001b[0m\u001b[0;34m)\u001b[0m\u001b[0;34m\u001b[0m\u001b[0;34m\u001b[0m\u001b[0m\n\u001b[1;32m     88\u001b[0m         \u001b[0mvis_label\u001b[0m \u001b[0;34m=\u001b[0m \u001b[0mnode\u001b[0m\u001b[0;34m.\u001b[0m\u001b[0mproperties\u001b[0m\u001b[0;34m.\u001b[0m\u001b[0mget\u001b[0m\u001b[0;34m(\u001b[0m\u001b[0mprop_key\u001b[0m\u001b[0;34m,\u001b[0m \u001b[0;34m\"\"\u001b[0m\u001b[0;34m)\u001b[0m\u001b[0;34m\u001b[0m\u001b[0;34m\u001b[0m\u001b[0m\n",
      "\u001b[0;31mTypeError\u001b[0m: 'LabelSetView' object is not callable"
     ]
    }
   ],
   "source": [
    "options = {\"Patients\": \"SUBJECT_ID\"}\n",
    "draw(graph, options)"
   ]
  }
 ],
 "metadata": {
  "kernelspec": {
   "display_name": "Python 3",
   "language": "python",
   "name": "python3"
  },
  "language_info": {
   "codemirror_mode": {
    "name": "ipython",
    "version": 3
   },
   "file_extension": ".py",
   "mimetype": "text/x-python",
   "name": "python",
   "nbconvert_exporter": "python",
   "pygments_lexer": "ipython3",
   "version": "3.9.1"
  }
 },
 "nbformat": 4,
 "nbformat_minor": 4
}
