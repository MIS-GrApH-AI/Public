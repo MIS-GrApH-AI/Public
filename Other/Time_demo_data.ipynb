{
 "cells": [
  {
   "cell_type": "markdown",
   "id": "tight-artist",
   "metadata": {},
   "source": [
    "# Dealing with Time"
   ]
  },
  {
   "cell_type": "markdown",
   "id": "worse-aircraft",
   "metadata": {},
   "source": [
    "The [MIMIC III documentation](https://mimic.physionet.org/mimicdata/time/) describes all of the time fields. Some key points are:  \n",
    "\"Time in the database is stored with one of two suffixes: TIME and DATE. If a column has TIME as the suffix, e.g. CHARTTIME, then the data resolution is down to the minute. If the column has DATE as the suffix, e.g. CHARTDATE, then the data resolution is down to the day.\""
   ]
  },
  {
   "cell_type": "code",
   "execution_count": 1,
   "id": "valuable-seating",
   "metadata": {},
   "outputs": [],
   "source": [
    "import pandas as pd"
   ]
  },
  {
   "cell_type": "markdown",
   "id": "limited-swift",
   "metadata": {},
   "source": [
    "### Obtain a list of all timestamp fields in the MIMIC-III data  \n",
    "- Copy table of all data columns from https://mit-lcp.github.io/mimic-schema-spy/columns.byTable.html into a spreadsheet\n",
    "- Filter the \"Type\" column on timestamp and delete all other rows\n",
    "- Note that all timestamp columns have a size of 22 characters, suggesting that they likely have a uniform format across the database\n",
    "- Keep only the \"Table\" and \"Column\" columns and save to CSV"
   ]
  },
  {
   "cell_type": "code",
   "execution_count": 2,
   "id": "identical-crisis",
   "metadata": {},
   "outputs": [],
   "source": [
    "time_fields = pd.read_csv('MIMIC-III_timestamp_fields.csv')"
   ]
  },
  {
   "cell_type": "code",
   "execution_count": 3,
   "id": "starting-lying",
   "metadata": {},
   "outputs": [
    {
     "data": {
      "text/html": [
       "<div>\n",
       "<style scoped>\n",
       "    .dataframe tbody tr th:only-of-type {\n",
       "        vertical-align: middle;\n",
       "    }\n",
       "\n",
       "    .dataframe tbody tr th {\n",
       "        vertical-align: top;\n",
       "    }\n",
       "\n",
       "    .dataframe thead th {\n",
       "        text-align: right;\n",
       "    }\n",
       "</style>\n",
       "<table border=\"1\" class=\"dataframe\">\n",
       "  <thead>\n",
       "    <tr style=\"text-align: right;\">\n",
       "      <th></th>\n",
       "      <th>Table</th>\n",
       "      <th>Column</th>\n",
       "    </tr>\n",
       "  </thead>\n",
       "  <tbody>\n",
       "    <tr>\n",
       "      <th>0</th>\n",
       "      <td>Admissions</td>\n",
       "      <td>admittime</td>\n",
       "    </tr>\n",
       "    <tr>\n",
       "      <th>1</th>\n",
       "      <td>Admissions</td>\n",
       "      <td>deathtime</td>\n",
       "    </tr>\n",
       "    <tr>\n",
       "      <th>2</th>\n",
       "      <td>Admissions</td>\n",
       "      <td>dischtime</td>\n",
       "    </tr>\n",
       "    <tr>\n",
       "      <th>3</th>\n",
       "      <td>Admissions</td>\n",
       "      <td>edouttime</td>\n",
       "    </tr>\n",
       "    <tr>\n",
       "      <th>4</th>\n",
       "      <td>Admissions</td>\n",
       "      <td>edregtime</td>\n",
       "    </tr>\n",
       "    <tr>\n",
       "      <th>...</th>\n",
       "      <td>...</td>\n",
       "      <td>...</td>\n",
       "    </tr>\n",
       "    <tr>\n",
       "      <th>69</th>\n",
       "      <td>Procedureevents_Mv</td>\n",
       "      <td>starttime</td>\n",
       "    </tr>\n",
       "    <tr>\n",
       "      <th>70</th>\n",
       "      <td>Procedureevents_Mv</td>\n",
       "      <td>storetime</td>\n",
       "    </tr>\n",
       "    <tr>\n",
       "      <th>71</th>\n",
       "      <td>Services</td>\n",
       "      <td>transfertime</td>\n",
       "    </tr>\n",
       "    <tr>\n",
       "      <th>72</th>\n",
       "      <td>Transfers</td>\n",
       "      <td>intime</td>\n",
       "    </tr>\n",
       "    <tr>\n",
       "      <th>73</th>\n",
       "      <td>Transfers</td>\n",
       "      <td>outtime</td>\n",
       "    </tr>\n",
       "  </tbody>\n",
       "</table>\n",
       "<p>74 rows × 2 columns</p>\n",
       "</div>"
      ],
      "text/plain": [
       "                 Table        Column\n",
       "0           Admissions     admittime\n",
       "1           Admissions     deathtime\n",
       "2           Admissions     dischtime\n",
       "3           Admissions     edouttime\n",
       "4           Admissions     edregtime\n",
       "..                 ...           ...\n",
       "69  Procedureevents_Mv     starttime\n",
       "70  Procedureevents_Mv     storetime\n",
       "71            Services  transfertime\n",
       "72           Transfers        intime\n",
       "73           Transfers       outtime\n",
       "\n",
       "[74 rows x 2 columns]"
      ]
     },
     "execution_count": 3,
     "metadata": {},
     "output_type": "execute_result"
    }
   ],
   "source": [
    "time_fields.loc[:,'Table'] = time_fields.loc[:,'Table'].str.title()\n",
    "time_fields.loc[:,'Column'] = time_fields.loc[:,'Column'].str.lower()\n",
    "time_fields"
   ]
  },
  {
   "cell_type": "markdown",
   "id": "legislative-twins",
   "metadata": {},
   "source": [
    "### Initialize a connection to the neo4j database."
   ]
  },
  {
   "cell_type": "code",
   "execution_count": 4,
   "id": "mature-commercial",
   "metadata": {},
   "outputs": [],
   "source": [
    "from neo4j import GraphDatabase\n",
    "driver=GraphDatabase.driver(uri=\"bolt://localhost:7687\", auth=('neo4j','Gr@ph3HR'))\n",
    "session=driver.session()"
   ]
  },
  {
   "cell_type": "markdown",
   "id": "unique-insured",
   "metadata": {},
   "source": [
    "### MERGE all timestamps as relationships into the time tree"
   ]
  },
  {
   "cell_type": "code",
   "execution_count": 5,
   "id": "banned-classification",
   "metadata": {},
   "outputs": [
    {
     "data": {
      "text/plain": [
       "<neo4j.work.result.Result at 0x7f20eefaaaf0>"
      ]
     },
     "execution_count": 5,
     "metadata": {},
     "output_type": "execute_result"
    }
   ],
   "source": [
    "# Create the root node of the time tree\n",
    "query = 'MERGE (t:Timetree {name:\"Time Tree\"})'\n",
    "session.run(query)"
   ]
  },
  {
   "cell_type": "code",
   "execution_count": 6,
   "id": "finnish-galaxy",
   "metadata": {
    "scrolled": true
   },
   "outputs": [
    {
     "name": "stdout",
     "output_type": "stream",
     "text": [
      "Admissions admittime 1\n",
      "Admissions deathtime 2\n",
      "Admissions dischtime 3\n",
      "Admissions edouttime 4\n",
      "Admissions edregtime 5\n",
      "Callout acknowledgetime 6\n",
      "Callout createtime 7\n",
      "Callout currentreservationtime 8\n",
      "Callout firstreservationtime 9\n",
      "Callout outcometime 10\n",
      "Callout updatetime 11\n",
      "Chartevents charttime 12\n",
      "Chartevents storetime 13\n",
      "Chartevents_1 charttime 14\n",
      "Chartevents_1 storetime 15\n",
      "Chartevents_10 charttime 16\n",
      "Chartevents_10 storetime 17\n",
      "Chartevents_11 charttime 18\n",
      "Chartevents_11 storetime 19\n",
      "Chartevents_12 charttime 20\n",
      "Chartevents_12 storetime 21\n",
      "Chartevents_13 charttime 22\n",
      "Chartevents_13 storetime 23\n",
      "Chartevents_14 charttime 24\n",
      "Chartevents_14 storetime 25\n",
      "Chartevents_2 charttime 26\n",
      "Chartevents_2 storetime 27\n",
      "Chartevents_3 charttime 28\n",
      "Chartevents_3 storetime 29\n",
      "Chartevents_4 charttime 30\n",
      "Chartevents_4 storetime 31\n",
      "Chartevents_5 charttime 32\n",
      "Chartevents_5 storetime 33\n",
      "Chartevents_6 charttime 34\n",
      "Chartevents_6 storetime 35\n",
      "Chartevents_7 charttime 36\n",
      "Chartevents_7 storetime 37\n",
      "Chartevents_8 charttime 38\n",
      "Chartevents_8 storetime 39\n",
      "Chartevents_9 charttime 40\n",
      "Chartevents_9 storetime 41\n",
      "Cptevents chartdate 42\n",
      "Datetimeevents charttime 43\n",
      "Datetimeevents storetime 44\n",
      "Datetimeevents value 45\n",
      "Icustays intime 46\n",
      "Icustays outtime 47\n",
      "Inputevents_Cv charttime 48\n",
      "Inputevents_Cv storetime 49\n",
      "Inputevents_Mv comments_date 50\n",
      "Inputevents_Mv endtime 51\n",
      "Inputevents_Mv starttime 52\n",
      "Inputevents_Mv storetime 53\n",
      "Labevents charttime 54\n",
      "Microbiologyevents chartdate 55\n",
      "Microbiologyevents charttime 56\n",
      "Noteevents chartdate 57\n",
      "Noteevents charttime 58\n",
      "Noteevents storetime 59\n",
      "Outputevents charttime 60\n",
      "Outputevents storetime 61\n",
      "Patients dob 62\n",
      "Patients dod 63\n",
      "Patients dod_hosp 64\n",
      "Patients dod_ssn 65\n",
      "Prescriptions enddate 66\n",
      "Prescriptions startdate 67\n",
      "Procedureevents_Mv comments_date 68\n",
      "Procedureevents_Mv endtime 69\n",
      "Procedureevents_Mv starttime 70\n",
      "Procedureevents_Mv storetime 71\n",
      "Services transfertime 72\n",
      "Transfers intime 73\n",
      "Transfers outtime 74\n"
     ]
    }
   ],
   "source": [
    "# Create all the year, month, and day nodes with relationships\n",
    "\n",
    "# Column from MIMIC = relationship name\n",
    "# Properties of relationship: timestamp\n",
    "# Each node contains the datetime informationa for all higher nodes in the tree (example: month nodes contain\n",
    "\n",
    "count = 0\n",
    "for index, row in time_fields.iterrows():\n",
    "    Label = row[0]\n",
    "    prop = row[1]\n",
    "    query = '''\n",
    "\"MATCH (n:{Label})\n",
    "WHERE n.{prop} =~ '[0-9]{{4}}-[0-9]{{2}}-[0-9]{{2}} [0-9]{{2}}:[0-9]{{2}}:[0-9]{{2}}'\n",
    "WITH apoc.date.parse(n.{prop}, 'ms', 'yyyy-MM-dd HH:mm:ss', 'America/New York') AS ms, n\n",
    "WITH datetime({{epochmillis: ms}}).year AS yr, datetime({{epochmillis: ms}}).month AS mo, datetime({{epochmillis: ms}}).day AS dt,\n",
    "ms, n\n",
    "RETURN yr, mo, dt, ms, n\",\n",
    "\"MATCH (t:Timetree {{name:'Time Tree'}})\n",
    "MERGE (t)<-[:OF]-(y:Year {{year:yr}})\n",
    "MERGE (y)<-[:OF]-(m:Month {{year:yr, month:mo}})\n",
    "MERGE (m)<-[:OF]-(d:Day {{year:yr, month:mo, day:dt}})\n",
    "MERGE (d)<-[:{prop} {{{prop}:datetime({{epochmillis: ms}})}}]-(n)\"'''.format(Label=Label, prop=prop)\n",
    "    count += 1\n",
    "    print(Label, prop, count)\n",
    "    command = 'CALL apoc.periodic.iterate('+query+', {batchSize:1000, parallel: true, iterateList:true})'\n",
    "    session.run(command)\n",
    "\n",
    "\n",
    "# Print a test query\n",
    "# print(command)"
   ]
  },
  {
   "cell_type": "markdown",
   "id": "infectious-ivory",
   "metadata": {},
   "source": [
    "### Close the connection to the neo4j database"
   ]
  },
  {
   "cell_type": "code",
   "execution_count": 8,
   "id": "dried-texas",
   "metadata": {},
   "outputs": [],
   "source": [
    "session.close()"
   ]
  }
 ],
 "metadata": {
  "kernelspec": {
   "display_name": "Python 3",
   "language": "python",
   "name": "python3"
  },
  "language_info": {
   "codemirror_mode": {
    "name": "ipython",
    "version": 3
   },
   "file_extension": ".py",
   "mimetype": "text/x-python",
   "name": "python",
   "nbconvert_exporter": "python",
   "pygments_lexer": "ipython3",
   "version": "3.9.1"
  }
 },
 "nbformat": 4,
 "nbformat_minor": 5
}
